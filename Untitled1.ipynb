{
  "cells": [
    {
      "cell_type": "markdown",
      "metadata": {
        "id": "view-in-github",
        "colab_type": "text"
      },
      "source": [
        "<a href=\"https://colab.research.google.com/github/Yabiin/EDA/blob/main/Untitled1.ipynb\" target=\"_parent\"><img src=\"https://colab.research.google.com/assets/colab-badge.svg\" alt=\"Open In Colab\"/></a>"
      ]
    },
    {
      "cell_type": "code",
      "execution_count": null,
      "id": "803d0fbe",
      "metadata": {
        "id": "803d0fbe"
      },
      "outputs": [],
      "source": [
        "import numpy as np\n",
        "import pandas as pd\n",
        "import matplotlib.pyplot as plt\n",
        "import seaborn as sns"
      ]
    },
    {
      "cell_type": "code",
      "execution_count": null,
      "id": "1937040c",
      "metadata": {
        "id": "1937040c",
        "outputId": "b162c784-b3ee-40ed-c8f2-0641b0a93908"
      },
      "outputs": [
        {
          "data": {
            "text/html": [
              "<div>\n",
              "<style scoped>\n",
              "    .dataframe tbody tr th:only-of-type {\n",
              "        vertical-align: middle;\n",
              "    }\n",
              "\n",
              "    .dataframe tbody tr th {\n",
              "        vertical-align: top;\n",
              "    }\n",
              "\n",
              "    .dataframe thead th {\n",
              "        text-align: right;\n",
              "    }\n",
              "</style>\n",
              "<table border=\"1\" class=\"dataframe\">\n",
              "  <thead>\n",
              "    <tr style=\"text-align: right;\">\n",
              "      <th></th>\n",
              "      <th>age</th>\n",
              "      <th>amneties</th>\n",
              "      <th>area</th>\n",
              "      <th>atmDistance</th>\n",
              "      <th>balconies</th>\n",
              "      <th>bathrooms</th>\n",
              "      <th>hospitalDistance</th>\n",
              "      <th>price</th>\n",
              "      <th>restrauntDistance</th>\n",
              "      <th>schoolDistance</th>\n",
              "      <th>shoppingDistance</th>\n",
              "      <th>status</th>\n",
              "    </tr>\n",
              "  </thead>\n",
              "  <tbody>\n",
              "    <tr>\n",
              "      <th>0</th>\n",
              "      <td>0</td>\n",
              "      <td>0</td>\n",
              "      <td>1250</td>\n",
              "      <td>0.000000</td>\n",
              "      <td>1</td>\n",
              "      <td>3</td>\n",
              "      <td>0.000000</td>\n",
              "      <td>3300000</td>\n",
              "      <td>0.000000</td>\n",
              "      <td>0.000000</td>\n",
              "      <td>0.000000</td>\n",
              "      <td>2</td>\n",
              "    </tr>\n",
              "    <tr>\n",
              "      <th>1</th>\n",
              "      <td>0</td>\n",
              "      <td>0</td>\n",
              "      <td>1500</td>\n",
              "      <td>0.000000</td>\n",
              "      <td>1</td>\n",
              "      <td>3</td>\n",
              "      <td>0.000000</td>\n",
              "      <td>3800000</td>\n",
              "      <td>0.000000</td>\n",
              "      <td>0.000000</td>\n",
              "      <td>0.000000</td>\n",
              "      <td>2</td>\n",
              "    </tr>\n",
              "    <tr>\n",
              "      <th>2</th>\n",
              "      <td>0</td>\n",
              "      <td>0</td>\n",
              "      <td>1000</td>\n",
              "      <td>0.000000</td>\n",
              "      <td>1</td>\n",
              "      <td>3</td>\n",
              "      <td>0.000000</td>\n",
              "      <td>3500000</td>\n",
              "      <td>0.000000</td>\n",
              "      <td>0.000000</td>\n",
              "      <td>0.000000</td>\n",
              "      <td>2</td>\n",
              "    </tr>\n",
              "    <tr>\n",
              "      <th>3</th>\n",
              "      <td>0</td>\n",
              "      <td>0</td>\n",
              "      <td>1500</td>\n",
              "      <td>0.000000</td>\n",
              "      <td>1</td>\n",
              "      <td>3</td>\n",
              "      <td>0.000000</td>\n",
              "      <td>3550000</td>\n",
              "      <td>0.000000</td>\n",
              "      <td>0.266872</td>\n",
              "      <td>0.000000</td>\n",
              "      <td>2</td>\n",
              "    </tr>\n",
              "    <tr>\n",
              "      <th>4</th>\n",
              "      <td>0</td>\n",
              "      <td>0</td>\n",
              "      <td>18000</td>\n",
              "      <td>0.495988</td>\n",
              "      <td>0</td>\n",
              "      <td>0</td>\n",
              "      <td>0.506733</td>\n",
              "      <td>20400000</td>\n",
              "      <td>0.433646</td>\n",
              "      <td>0.466568</td>\n",
              "      <td>0.396720</td>\n",
              "      <td>1</td>\n",
              "    </tr>\n",
              "    <tr>\n",
              "      <th>...</th>\n",
              "      <td>...</td>\n",
              "      <td>...</td>\n",
              "      <td>...</td>\n",
              "      <td>...</td>\n",
              "      <td>...</td>\n",
              "      <td>...</td>\n",
              "      <td>...</td>\n",
              "      <td>...</td>\n",
              "      <td>...</td>\n",
              "      <td>...</td>\n",
              "      <td>...</td>\n",
              "      <td>...</td>\n",
              "    </tr>\n",
              "    <tr>\n",
              "      <th>5265</th>\n",
              "      <td>2</td>\n",
              "      <td>0</td>\n",
              "      <td>2200</td>\n",
              "      <td>0.244597</td>\n",
              "      <td>0</td>\n",
              "      <td>4</td>\n",
              "      <td>0.248962</td>\n",
              "      <td>8000000</td>\n",
              "      <td>0.269173</td>\n",
              "      <td>0.262217</td>\n",
              "      <td>0.252135</td>\n",
              "      <td>3</td>\n",
              "    </tr>\n",
              "    <tr>\n",
              "      <th>5266</th>\n",
              "      <td>2</td>\n",
              "      <td>0</td>\n",
              "      <td>2900</td>\n",
              "      <td>0.564552</td>\n",
              "      <td>0</td>\n",
              "      <td>4</td>\n",
              "      <td>0.532139</td>\n",
              "      <td>9500000</td>\n",
              "      <td>0.525773</td>\n",
              "      <td>0.564361</td>\n",
              "      <td>0.442707</td>\n",
              "      <td>3</td>\n",
              "    </tr>\n",
              "    <tr>\n",
              "      <th>5267</th>\n",
              "      <td>2</td>\n",
              "      <td>0</td>\n",
              "      <td>2000</td>\n",
              "      <td>0.564552</td>\n",
              "      <td>0</td>\n",
              "      <td>4</td>\n",
              "      <td>0.532139</td>\n",
              "      <td>9500000</td>\n",
              "      <td>0.525773</td>\n",
              "      <td>0.564361</td>\n",
              "      <td>0.442707</td>\n",
              "      <td>3</td>\n",
              "    </tr>\n",
              "    <tr>\n",
              "      <th>5268</th>\n",
              "      <td>2</td>\n",
              "      <td>0</td>\n",
              "      <td>1800</td>\n",
              "      <td>0.564552</td>\n",
              "      <td>0</td>\n",
              "      <td>3</td>\n",
              "      <td>0.532139</td>\n",
              "      <td>7500000</td>\n",
              "      <td>0.525773</td>\n",
              "      <td>0.564361</td>\n",
              "      <td>0.442707</td>\n",
              "      <td>3</td>\n",
              "    </tr>\n",
              "    <tr>\n",
              "      <th>5269</th>\n",
              "      <td>2</td>\n",
              "      <td>0</td>\n",
              "      <td>2200</td>\n",
              "      <td>0.564552</td>\n",
              "      <td>0</td>\n",
              "      <td>4</td>\n",
              "      <td>0.532139</td>\n",
              "      <td>11000000</td>\n",
              "      <td>0.525773</td>\n",
              "      <td>0.564361</td>\n",
              "      <td>0.442707</td>\n",
              "      <td>3</td>\n",
              "    </tr>\n",
              "  </tbody>\n",
              "</table>\n",
              "<p>5270 rows × 12 columns</p>\n",
              "</div>"
            ],
            "text/plain": [
              "      age  amneties   area  atmDistance  balconies  bathrooms  \\\n",
              "0       0         0   1250     0.000000          1          3   \n",
              "1       0         0   1500     0.000000          1          3   \n",
              "2       0         0   1000     0.000000          1          3   \n",
              "3       0         0   1500     0.000000          1          3   \n",
              "4       0         0  18000     0.495988          0          0   \n",
              "...   ...       ...    ...          ...        ...        ...   \n",
              "5265    2         0   2200     0.244597          0          4   \n",
              "5266    2         0   2900     0.564552          0          4   \n",
              "5267    2         0   2000     0.564552          0          4   \n",
              "5268    2         0   1800     0.564552          0          3   \n",
              "5269    2         0   2200     0.564552          0          4   \n",
              "\n",
              "      hospitalDistance     price  restrauntDistance  schoolDistance  \\\n",
              "0             0.000000   3300000           0.000000        0.000000   \n",
              "1             0.000000   3800000           0.000000        0.000000   \n",
              "2             0.000000   3500000           0.000000        0.000000   \n",
              "3             0.000000   3550000           0.000000        0.266872   \n",
              "4             0.506733  20400000           0.433646        0.466568   \n",
              "...                ...       ...                ...             ...   \n",
              "5265          0.248962   8000000           0.269173        0.262217   \n",
              "5266          0.532139   9500000           0.525773        0.564361   \n",
              "5267          0.532139   9500000           0.525773        0.564361   \n",
              "5268          0.532139   7500000           0.525773        0.564361   \n",
              "5269          0.532139  11000000           0.525773        0.564361   \n",
              "\n",
              "      shoppingDistance  status  \n",
              "0             0.000000       2  \n",
              "1             0.000000       2  \n",
              "2             0.000000       2  \n",
              "3             0.000000       2  \n",
              "4             0.396720       1  \n",
              "...                ...     ...  \n",
              "5265          0.252135       3  \n",
              "5266          0.442707       3  \n",
              "5267          0.442707       3  \n",
              "5268          0.442707       3  \n",
              "5269          0.442707       3  \n",
              "\n",
              "[5270 rows x 12 columns]"
            ]
          },
          "execution_count": 5,
          "metadata": {},
          "output_type": "execute_result"
        }
      ],
      "source": [
        "df = pd.read_csv(\"data.csv\")\n",
        "df"
      ]
    },
    {
      "cell_type": "code",
      "execution_count": null,
      "id": "1efcc653",
      "metadata": {
        "id": "1efcc653",
        "outputId": "bb8ba40a-8116-4a65-d154-2791cf860f5b"
      },
      "outputs": [
        {
          "data": {
            "text/plain": [
              "age                  0\n",
              "amneties             0\n",
              "area                 0\n",
              "atmDistance          0\n",
              "balconies            0\n",
              "bathrooms            0\n",
              "hospitalDistance     0\n",
              "price                0\n",
              "restrauntDistance    0\n",
              "schoolDistance       0\n",
              "shoppingDistance     0\n",
              "status               0\n",
              "dtype: int64"
            ]
          },
          "execution_count": 6,
          "metadata": {},
          "output_type": "execute_result"
        }
      ],
      "source": [
        "df.isnull().sum()"
      ]
    },
    {
      "cell_type": "code",
      "execution_count": null,
      "id": "47c8abda",
      "metadata": {
        "id": "47c8abda",
        "outputId": "6e26ba13-a652-449c-84b7-d5213a318165"
      },
      "outputs": [
        {
          "name": "stdout",
          "output_type": "stream",
          "text": [
            "<class 'pandas.core.frame.DataFrame'>\n",
            "RangeIndex: 5270 entries, 0 to 5269\n",
            "Data columns (total 12 columns):\n",
            " #   Column             Non-Null Count  Dtype  \n",
            "---  ------             --------------  -----  \n",
            " 0   age                5270 non-null   int64  \n",
            " 1   amneties           5270 non-null   int64  \n",
            " 2   area               5270 non-null   int64  \n",
            " 3   atmDistance        5270 non-null   float64\n",
            " 4   balconies          5270 non-null   int64  \n",
            " 5   bathrooms          5270 non-null   int64  \n",
            " 6   hospitalDistance   5270 non-null   float64\n",
            " 7   price              5270 non-null   int64  \n",
            " 8   restrauntDistance  5270 non-null   float64\n",
            " 9   schoolDistance     5270 non-null   float64\n",
            " 10  shoppingDistance   5270 non-null   float64\n",
            " 11  status             5270 non-null   int64  \n",
            "dtypes: float64(5), int64(7)\n",
            "memory usage: 494.2 KB\n"
          ]
        }
      ],
      "source": [
        "df.info()"
      ]
    },
    {
      "cell_type": "code",
      "execution_count": null,
      "id": "670eba2b",
      "metadata": {
        "id": "670eba2b",
        "outputId": "97d1940d-6ff4-48d4-9e29-d38ff62c59dc"
      },
      "outputs": [
        {
          "data": {
            "text/html": [
              "<div>\n",
              "<style scoped>\n",
              "    .dataframe tbody tr th:only-of-type {\n",
              "        vertical-align: middle;\n",
              "    }\n",
              "\n",
              "    .dataframe tbody tr th {\n",
              "        vertical-align: top;\n",
              "    }\n",
              "\n",
              "    .dataframe thead th {\n",
              "        text-align: right;\n",
              "    }\n",
              "</style>\n",
              "<table border=\"1\" class=\"dataframe\">\n",
              "  <thead>\n",
              "    <tr style=\"text-align: right;\">\n",
              "      <th></th>\n",
              "      <th>age</th>\n",
              "      <th>amneties</th>\n",
              "      <th>area</th>\n",
              "      <th>atmDistance</th>\n",
              "      <th>balconies</th>\n",
              "      <th>bathrooms</th>\n",
              "      <th>hospitalDistance</th>\n",
              "      <th>price</th>\n",
              "      <th>restrauntDistance</th>\n",
              "      <th>schoolDistance</th>\n",
              "      <th>shoppingDistance</th>\n",
              "      <th>status</th>\n",
              "    </tr>\n",
              "  </thead>\n",
              "  <tbody>\n",
              "    <tr>\n",
              "      <th>count</th>\n",
              "      <td>5270.000000</td>\n",
              "      <td>5270.000000</td>\n",
              "      <td>5270.000000</td>\n",
              "      <td>5270.000000</td>\n",
              "      <td>5270.000000</td>\n",
              "      <td>5270.000000</td>\n",
              "      <td>5270.000000</td>\n",
              "      <td>5.270000e+03</td>\n",
              "      <td>5270.000000</td>\n",
              "      <td>5270.000000</td>\n",
              "      <td>5270.000000</td>\n",
              "      <td>5270.00000</td>\n",
              "    </tr>\n",
              "    <tr>\n",
              "      <th>mean</th>\n",
              "      <td>0.570209</td>\n",
              "      <td>0.597723</td>\n",
              "      <td>2221.585579</td>\n",
              "      <td>0.239448</td>\n",
              "      <td>0.880076</td>\n",
              "      <td>2.829602</td>\n",
              "      <td>0.241893</td>\n",
              "      <td>6.703021e+06</td>\n",
              "      <td>0.264998</td>\n",
              "      <td>0.228714</td>\n",
              "      <td>0.230307</td>\n",
              "      <td>2.06907</td>\n",
              "    </tr>\n",
              "    <tr>\n",
              "      <th>std</th>\n",
              "      <td>2.866271</td>\n",
              "      <td>1.824070</td>\n",
              "      <td>9015.673757</td>\n",
              "      <td>0.316394</td>\n",
              "      <td>0.597681</td>\n",
              "      <td>0.945766</td>\n",
              "      <td>0.259047</td>\n",
              "      <td>1.091517e+07</td>\n",
              "      <td>0.407329</td>\n",
              "      <td>0.249311</td>\n",
              "      <td>0.267124</td>\n",
              "      <td>0.42212</td>\n",
              "    </tr>\n",
              "    <tr>\n",
              "      <th>min</th>\n",
              "      <td>0.000000</td>\n",
              "      <td>0.000000</td>\n",
              "      <td>10.000000</td>\n",
              "      <td>0.000000</td>\n",
              "      <td>0.000000</td>\n",
              "      <td>0.000000</td>\n",
              "      <td>0.000000</td>\n",
              "      <td>1.000000e+04</td>\n",
              "      <td>0.000000</td>\n",
              "      <td>0.000000</td>\n",
              "      <td>0.000000</td>\n",
              "      <td>1.00000</td>\n",
              "    </tr>\n",
              "    <tr>\n",
              "      <th>25%</th>\n",
              "      <td>0.000000</td>\n",
              "      <td>0.000000</td>\n",
              "      <td>1500.000000</td>\n",
              "      <td>0.000000</td>\n",
              "      <td>1.000000</td>\n",
              "      <td>3.000000</td>\n",
              "      <td>0.000000</td>\n",
              "      <td>3.800000e+06</td>\n",
              "      <td>0.000000</td>\n",
              "      <td>0.000000</td>\n",
              "      <td>0.000000</td>\n",
              "      <td>2.00000</td>\n",
              "    </tr>\n",
              "    <tr>\n",
              "      <th>50%</th>\n",
              "      <td>0.000000</td>\n",
              "      <td>0.000000</td>\n",
              "      <td>1500.000000</td>\n",
              "      <td>0.078685</td>\n",
              "      <td>1.000000</td>\n",
              "      <td>3.000000</td>\n",
              "      <td>0.229837</td>\n",
              "      <td>4.500000e+06</td>\n",
              "      <td>0.000000</td>\n",
              "      <td>0.236246</td>\n",
              "      <td>0.198971</td>\n",
              "      <td>2.00000</td>\n",
              "    </tr>\n",
              "    <tr>\n",
              "      <th>75%</th>\n",
              "      <td>0.000000</td>\n",
              "      <td>0.000000</td>\n",
              "      <td>2100.000000</td>\n",
              "      <td>0.360139</td>\n",
              "      <td>1.000000</td>\n",
              "      <td>3.000000</td>\n",
              "      <td>0.425555</td>\n",
              "      <td>7.600000e+06</td>\n",
              "      <td>0.443194</td>\n",
              "      <td>0.343254</td>\n",
              "      <td>0.389779</td>\n",
              "      <td>2.00000</td>\n",
              "    </tr>\n",
              "    <tr>\n",
              "      <th>max</th>\n",
              "      <td>122.000000</td>\n",
              "      <td>10.000000</td>\n",
              "      <td>435600.000000</td>\n",
              "      <td>2.695185</td>\n",
              "      <td>8.000000</td>\n",
              "      <td>16.000000</td>\n",
              "      <td>1.186371</td>\n",
              "      <td>4.200000e+08</td>\n",
              "      <td>3.091908</td>\n",
              "      <td>1.109662</td>\n",
              "      <td>1.149803</td>\n",
              "      <td>3.00000</td>\n",
              "    </tr>\n",
              "  </tbody>\n",
              "</table>\n",
              "</div>"
            ],
            "text/plain": [
              "               age     amneties           area  atmDistance    balconies  \\\n",
              "count  5270.000000  5270.000000    5270.000000  5270.000000  5270.000000   \n",
              "mean      0.570209     0.597723    2221.585579     0.239448     0.880076   \n",
              "std       2.866271     1.824070    9015.673757     0.316394     0.597681   \n",
              "min       0.000000     0.000000      10.000000     0.000000     0.000000   \n",
              "25%       0.000000     0.000000    1500.000000     0.000000     1.000000   \n",
              "50%       0.000000     0.000000    1500.000000     0.078685     1.000000   \n",
              "75%       0.000000     0.000000    2100.000000     0.360139     1.000000   \n",
              "max     122.000000    10.000000  435600.000000     2.695185     8.000000   \n",
              "\n",
              "         bathrooms  hospitalDistance         price  restrauntDistance  \\\n",
              "count  5270.000000       5270.000000  5.270000e+03        5270.000000   \n",
              "mean      2.829602          0.241893  6.703021e+06           0.264998   \n",
              "std       0.945766          0.259047  1.091517e+07           0.407329   \n",
              "min       0.000000          0.000000  1.000000e+04           0.000000   \n",
              "25%       3.000000          0.000000  3.800000e+06           0.000000   \n",
              "50%       3.000000          0.229837  4.500000e+06           0.000000   \n",
              "75%       3.000000          0.425555  7.600000e+06           0.443194   \n",
              "max      16.000000          1.186371  4.200000e+08           3.091908   \n",
              "\n",
              "       schoolDistance  shoppingDistance      status  \n",
              "count     5270.000000       5270.000000  5270.00000  \n",
              "mean         0.228714          0.230307     2.06907  \n",
              "std          0.249311          0.267124     0.42212  \n",
              "min          0.000000          0.000000     1.00000  \n",
              "25%          0.000000          0.000000     2.00000  \n",
              "50%          0.236246          0.198971     2.00000  \n",
              "75%          0.343254          0.389779     2.00000  \n",
              "max          1.109662          1.149803     3.00000  "
            ]
          },
          "execution_count": 8,
          "metadata": {},
          "output_type": "execute_result"
        }
      ],
      "source": [
        "df.describe()"
      ]
    },
    {
      "cell_type": "code",
      "execution_count": null,
      "id": "b2e197fa",
      "metadata": {
        "id": "b2e197fa",
        "outputId": "64a0f5fb-9a1b-4700-d4ea-c7721f14fa0b"
      },
      "outputs": [
        {
          "data": {
            "image/png": "[encoded data removed]",
            "text/plain": [
              "<Figure size 1080x360 with 1 Axes>"
            ]
          },
          "metadata": {
            "needs_background": "light"
          },
          "output_type": "display_data"
        }
      ],
      "source": [
        "age = df['age'].value_counts().index\n",
        "amount = df['age'].value_counts().values\n",
        "dictAgeCount = {\n",
        "    'Age' : age,\n",
        "    'Amount' : amount\n",
        "}\n",
        "dfAgeCount = pd.DataFrame(dictAgeCount)\n",
        "dfAgeCount['Age'] = dfAgeCount['Age'].astype(str)\n",
        "plt.figure(figsize=(15,5))\n",
        "plt.bar(data = dfAgeCount, x = 'Age', height = 'Amount',color = 'maroon')\n",
        "plt.title(\"Count Value: 'Age'\")\n",
        "for i in dfAgeCount['Age']:\n",
        "    x = i\n",
        "    y = dfAgeCount['Amount'].loc[dfAgeCount['Age']==i].values\n",
        "    s = y[0] \n",
        "    y = y[0] + 200\n",
        "    plt.text(x,y,s, ha = 'center')\n",
        "plt.ylim(0,5500)\n",
        "plt.xlabel('Age')\n",
        "plt.ylabel('Amount') \n",
        "plt.show()"
      ]
    },
    {
      "cell_type": "markdown",
      "id": "65bfe37b",
      "metadata": {
        "id": "65bfe37b"
      },
      "source": [
        "Most of the houses are less than one year.\n",
        "There are 4773 houses that are less than one year.\n",
        "There is only one oldest house and it is 122 years old.\n",
        "5 Age with the most number of houses are houses that are less than one year with 4773 houses, 2 years old houses that are 165 houses, 6 years old house that are 111 houses, 4 years houses that are 91 houses, and 8 years old houses that are 32 houses.\n",
        "Some ages only have one house like 50 years old house, 122 years old house, 36 years old house, 32 years old house, 42 years old house, 13 years old house, 17 years old house, 19 years old house."
      ]
    },
    {
      "cell_type": "code",
      "execution_count": null,
      "id": "99ae537a",
      "metadata": {
        "id": "99ae537a",
        "outputId": "e7832524-7c08-4ec0-8cec-5ee4b79ec6b0"
      },
      "outputs": [
        {
          "data": {
            "image/png": "[encoded data removed]",
            "text/plain": [
              "<Figure size 1080x360 with 1 Axes>"
            ]
          },
          "metadata": {
            "needs_background": "light"
          },
          "output_type": "display_data"
        }
      ],
      "source": [
        "amneties = df['amneties'].value_counts().index\n",
        "amount = df['amneties'].value_counts().values\n",
        "dictAmnetiesCount = {\n",
        "    'Amneties' : amneties,\n",
        "    'Amount' : amount\n",
        "}\n",
        "dfAmnetiesCount = pd.DataFrame(dictAmnetiesCount)\n",
        "dfAmnetiesCount['Amneties'] = dfAmnetiesCount['Amneties'].astype(str)\n",
        "plt.figure(figsize=(15,5))\n",
        "plt.bar(data = dfAmnetiesCount, x = 'Amneties', height = 'Amount',color = 'maroon')\n",
        "plt.title(\"Count Value: 'Amneties'\")\n",
        "for i in dfAmnetiesCount['Amneties']:\n",
        "    x = i\n",
        "    y = dfAmnetiesCount['Amount'].loc[dfAmnetiesCount['Amneties']==i].values\n",
        "    s = y[0] \n",
        "    y = y[0] + 200\n",
        "    plt.text(x,y,s, ha = 'center')\n",
        "plt.ylim(0,5500)\n",
        "plt.xlabel('Amneties')\n",
        "plt.ylabel('Amount') \n",
        "plt.show()"
      ]
    },
    {
      "cell_type": "markdown",
      "id": "980183a8",
      "metadata": {
        "id": "980183a8"
      },
      "source": [
        "Most of the house are 0 amneties with 4484 houses.\n",
        "Least of the house are 5 amneties with 30 houses.\n",
        "5 amneties that has most houses are 0 amneties houses, 2 amneties houses, 1 amneties houses, 10 amneties houses and 6 amneties houses.\n",
        "5 amneties that has least houses are 5 amneties houses, 3 amneties houses, 8 amneties houses, 4 amneties houses and 7 amneties houses.\n",
        "Most of the houses dont have amneties"
      ]
    },
    {
      "cell_type": "code",
      "execution_count": null,
      "id": "ce57d519",
      "metadata": {
        "id": "ce57d519",
        "outputId": "40f59425-089c-4bd5-cc20-c94682f1c782"
      },
      "outputs": [
        {
          "data": {
            "image/png": "[encoded data removed]",
            "text/plain": [
              "<Figure size 1080x360 with 1 Axes>"
            ]
          },
          "metadata": {
            "needs_background": "light"
          },
          "output_type": "display_data"
        }
      ],
      "source": [
        "balconies = df['balconies'].value_counts().index\n",
        "amount = df['balconies'].value_counts().values\n",
        "dictBalconiesCount = {\n",
        "    'Balconies' : balconies,\n",
        "    'Amount' : amount\n",
        "}\n",
        "dfBalconiesCount = pd.DataFrame(dictBalconiesCount)\n",
        "dfBalconiesCount['Balconies'] = dfBalconiesCount['Balconies'].astype(str)\n",
        "plt.figure(figsize=(15,5))\n",
        "plt.bar(data = dfBalconiesCount, x = 'Balconies', height = 'Amount',color = 'maroon')\n",
        "plt.title(\"Count Value: 'Balconies'\")\n",
        "for i in dfBalconiesCount['Balconies']:\n",
        "    x = i\n",
        "    y = dfBalconiesCount['Amount'].loc[dfBalconiesCount['Balconies']==i].values\n",
        "    s = y[0] \n",
        "    y = y[0] + 200\n",
        "    plt.text(x,y,s, ha = 'center')\n",
        "plt.ylim(0,5500)\n",
        "plt.xlabel('Balconies')\n",
        "plt.ylabel('Amount') \n",
        "plt.show()"
      ]
    },
    {
      "cell_type": "markdown",
      "id": "9c35becd",
      "metadata": {
        "id": "9c35becd"
      },
      "source": [
        "Most of the houses have at least one balcony\n",
        "There are 3918 houses that have one balcony\n",
        "The highest number of balconies that a house has is 8 balconies\n",
        "There are also a house with 7 balconies\n",
        "3 highest number of houses are houses that have 1 balcony, houses that have no balcony, and houses that have 2 balconies"
      ]
    },
    {
      "cell_type": "code",
      "execution_count": null,
      "id": "992db927",
      "metadata": {
        "id": "992db927",
        "outputId": "0dc36a99-6365-4dde-85e2-dfe25a28b205"
      },
      "outputs": [
        {
          "data": {
            "image/png": "[encoded data removed]",
            "text/plain": [
              "<Figure size 1080x360 with 1 Axes>"
            ]
          },
          "metadata": {
            "needs_background": "light"
          },
          "output_type": "display_data"
        }
      ],
      "source": [
        "bathrooms = df['bathrooms'].value_counts().index\n",
        "amount = df['bathrooms'].value_counts().values\n",
        "dictBathroomsCount = {\n",
        "    'Bathrooms' : bathrooms,\n",
        "    'Amount' : amount\n",
        "}\n",
        "dfBathroomsCount = pd.DataFrame(dictBathroomsCount)\n",
        "dfBathroomsCount['Bathrooms'] = dfBathroomsCount['Bathrooms'].astype(str)\n",
        "plt.figure(figsize=(15,5))\n",
        "plt.bar(data = dfBathroomsCount, x = 'Bathrooms', height = 'Amount',color = 'maroon')\n",
        "plt.title(\"Count Value: 'Bathrooms'\")\n",
        "for i in dfBathroomsCount['Bathrooms']:\n",
        "    x = i\n",
        "    y = dfBathroomsCount['Amount'].loc[dfBathroomsCount['Bathrooms']==i].values\n",
        "    s = y[0] \n",
        "    y = y[0] + 200\n",
        "    plt.text(x,y,s, ha = 'center')\n",
        "plt.ylim(0,5500)\n",
        "plt.xlabel('Bathrooms')\n",
        "plt.ylabel('Amount') \n",
        "plt.show()"
      ]
    },
    {
      "cell_type": "markdown",
      "id": "aead5405",
      "metadata": {
        "id": "aead5405"
      },
      "source": [
        "Most houses have 3 bathrooms.\n",
        "There are some houses that have no bathroom.\n",
        "The highest number of bathrooms in a house is 16 bathrooms.\n",
        "The least number of houses based on the number of bathrooms are house with 10 bathrooms and house with 16 bathrooms.\n",
        "3 highest number of houses are houses that have 3 bathrooms, houses that have 4 bathrooms, and houses that has no bathrooms."
      ]
    },
    {
      "cell_type": "code",
      "execution_count": null,
      "id": "f2960f1f",
      "metadata": {
        "id": "f2960f1f"
      },
      "outputs": [],
      "source": []
    }
  ],
  "metadata": {
    "kernelspec": {
      "display_name": "Python 3 (ipykernel)",
      "language": "python",
      "name": "python3"
    },
    "language_info": {
      "codemirror_mode": {
        "name": "ipython",
        "version": 3
      },
      "file_extension": ".py",
      "mimetype": "text/x-python",
      "name": "python",
      "nbconvert_exporter": "python",
      "pygments_lexer": "ipython3",
      "version": "3.9.12"
    },
    "colab": {
      "provenance": [],
      "include_colab_link": true
    }
  },
  "nbformat": 4,
  "nbformat_minor": 5
}
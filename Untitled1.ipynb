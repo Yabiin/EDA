{
  "cells": [
    {
      "cell_type": "markdown",
      "metadata": {
        "id": "view-in-github",
        "colab_type": "text"
      },
      "source": [
        "<a href=\"https://colab.research.google.com/github/Yabiin/Kerala-House-Price-Analysis/blob/main/Untitled1.ipynb\" target=\"_parent\"><img src=\"https://colab.research.google.com/assets/colab-badge.svg\" alt=\"Open In Colab\"/></a>"
      ]
    },
    {
      "cell_type": "code",
      "execution_count": null,
      "id": "0eee7749",
      "metadata": {
        "id": "0eee7749"
      },
      "outputs": [],
      "source": [
        "1. Why this project?\n",
        "The real estate sector is an important industry with many stakeholders ranging from regulatory bodies to private companies and investors. Among these stakeholders, there is a high demand for a better understanding of the industry’s operational mechanism and driving factors.\n",
        " Today there is a large amount of data available on relevant statistics as well as on additional contextual factors, and it is natural to try to make use of these to improve our understanding of the industry.\n",
        "This project can be considered as a further step towards more evidence-based decision-making for the benefit of these stakeholders. The project focused on the assessment value for residential properties in Kerala between 2017-2020 based on data from Kaggle. My project aims to build a predictive model for change in house prices in the year 2022 based on a certain time and geography-dependent variables. The main steps in my research are the following. \n",
        "\n",
        "• Exploratory Data Analysis (EDA). By conducting explanatory data analysis, we obtain a better understanding of our data. This yields insights that can be helpful later when building a model, as well as independently interesting insights\n"
      ]
    },
    {
      "cell_type": "code",
      "execution_count": null,
      "id": "1e7e9d6f",
      "metadata": {
        "id": "1e7e9d6f"
      },
      "outputs": [],
      "source": [
        "import numpy as np\n",
        "import pandas as pd\n",
        "import matplotlib.pyplot as plt\n",
        "import seaborn as sns"
      ]
    },
    {
      "cell_type": "code",
      "execution_count": null,
      "id": "24dd2a36",
      "metadata": {
        "id": "24dd2a36",
        "outputId": "ebac7e57-6d41-4f02-e65e-29411833749d"
      },
      "outputs": [
        {
          "data": {
            "text/html": [
              "<div>\n",
              "<style scoped>\n",
              "    .dataframe tbody tr th:only-of-type {\n",
              "        vertical-align: middle;\n",
              "    }\n",
              "\n",
              "    .dataframe tbody tr th {\n",
              "        vertical-align: top;\n",
              "    }\n",
              "\n",
              "    .dataframe thead th {\n",
              "        text-align: right;\n",
              "    }\n",
              "</style>\n",
              "<table border=\"1\" class=\"dataframe\">\n",
              "  <thead>\n",
              "    <tr style=\"text-align: right;\">\n",
              "      <th></th>\n",
              "      <th>age</th>\n",
              "      <th>amneties</th>\n",
              "      <th>area</th>\n",
              "      <th>atmDistance</th>\n",
              "      <th>balconies</th>\n",
              "      <th>bathrooms</th>\n",
              "      <th>hospitalDistance</th>\n",
              "      <th>price</th>\n",
              "      <th>restrauntDistance</th>\n",
              "      <th>schoolDistance</th>\n",
              "      <th>shoppingDistance</th>\n",
              "      <th>status</th>\n",
              "    </tr>\n",
              "  </thead>\n",
              "  <tbody>\n",
              "    <tr>\n",
              "      <th>0</th>\n",
              "      <td>0</td>\n",
              "      <td>0</td>\n",
              "      <td>1250</td>\n",
              "      <td>0.000000</td>\n",
              "      <td>1</td>\n",
              "      <td>3</td>\n",
              "      <td>0.000000</td>\n",
              "      <td>3300000</td>\n",
              "      <td>0.000000</td>\n",
              "      <td>0.000000</td>\n",
              "      <td>0.000000</td>\n",
              "      <td>2</td>\n",
              "    </tr>\n",
              "    <tr>\n",
              "      <th>1</th>\n",
              "      <td>0</td>\n",
              "      <td>0</td>\n",
              "      <td>1500</td>\n",
              "      <td>0.000000</td>\n",
              "      <td>1</td>\n",
              "      <td>3</td>\n",
              "      <td>0.000000</td>\n",
              "      <td>3800000</td>\n",
              "      <td>0.000000</td>\n",
              "      <td>0.000000</td>\n",
              "      <td>0.000000</td>\n",
              "      <td>2</td>\n",
              "    </tr>\n",
              "    <tr>\n",
              "      <th>2</th>\n",
              "      <td>0</td>\n",
              "      <td>0</td>\n",
              "      <td>1000</td>\n",
              "      <td>0.000000</td>\n",
              "      <td>1</td>\n",
              "      <td>3</td>\n",
              "      <td>0.000000</td>\n",
              "      <td>3500000</td>\n",
              "      <td>0.000000</td>\n",
              "      <td>0.000000</td>\n",
              "      <td>0.000000</td>\n",
              "      <td>2</td>\n",
              "    </tr>\n",
              "    <tr>\n",
              "      <th>3</th>\n",
              "      <td>0</td>\n",
              "      <td>0</td>\n",
              "      <td>1500</td>\n",
              "      <td>0.000000</td>\n",
              "      <td>1</td>\n",
              "      <td>3</td>\n",
              "      <td>0.000000</td>\n",
              "      <td>3550000</td>\n",
              "      <td>0.000000</td>\n",
              "      <td>0.266872</td>\n",
              "      <td>0.000000</td>\n",
              "      <td>2</td>\n",
              "    </tr>\n",
              "    <tr>\n",
              "      <th>4</th>\n",
              "      <td>0</td>\n",
              "      <td>0</td>\n",
              "      <td>18000</td>\n",
              "      <td>0.495988</td>\n",
              "      <td>0</td>\n",
              "      <td>0</td>\n",
              "      <td>0.506733</td>\n",
              "      <td>20400000</td>\n",
              "      <td>0.433646</td>\n",
              "      <td>0.466568</td>\n",
              "      <td>0.396720</td>\n",
              "      <td>1</td>\n",
              "    </tr>\n",
              "    <tr>\n",
              "      <th>...</th>\n",
              "      <td>...</td>\n",
              "      <td>...</td>\n",
              "      <td>...</td>\n",
              "      <td>...</td>\n",
              "      <td>...</td>\n",
              "      <td>...</td>\n",
              "      <td>...</td>\n",
              "      <td>...</td>\n",
              "      <td>...</td>\n",
              "      <td>...</td>\n",
              "      <td>...</td>\n",
              "      <td>...</td>\n",
              "    </tr>\n",
              "    <tr>\n",
              "      <th>5265</th>\n",
              "      <td>2</td>\n",
              "      <td>0</td>\n",
              "      <td>2200</td>\n",
              "      <td>0.244597</td>\n",
              "      <td>0</td>\n",
              "      <td>4</td>\n",
              "      <td>0.248962</td>\n",
              "      <td>8000000</td>\n",
              "      <td>0.269173</td>\n",
              "      <td>0.262217</td>\n",
              "      <td>0.252135</td>\n",
              "      <td>3</td>\n",
              "    </tr>\n",
              "    <tr>\n",
              "      <th>5266</th>\n",
              "      <td>2</td>\n",
              "      <td>0</td>\n",
              "      <td>2900</td>\n",
              "      <td>0.564552</td>\n",
              "      <td>0</td>\n",
              "      <td>4</td>\n",
              "      <td>0.532139</td>\n",
              "      <td>9500000</td>\n",
              "      <td>0.525773</td>\n",
              "      <td>0.564361</td>\n",
              "      <td>0.442707</td>\n",
              "      <td>3</td>\n",
              "    </tr>\n",
              "    <tr>\n",
              "      <th>5267</th>\n",
              "      <td>2</td>\n",
              "      <td>0</td>\n",
              "      <td>2000</td>\n",
              "      <td>0.564552</td>\n",
              "      <td>0</td>\n",
              "      <td>4</td>\n",
              "      <td>0.532139</td>\n",
              "      <td>9500000</td>\n",
              "      <td>0.525773</td>\n",
              "      <td>0.564361</td>\n",
              "      <td>0.442707</td>\n",
              "      <td>3</td>\n",
              "    </tr>\n",
              "    <tr>\n",
              "      <th>5268</th>\n",
              "      <td>2</td>\n",
              "      <td>0</td>\n",
              "      <td>1800</td>\n",
              "      <td>0.564552</td>\n",
              "      <td>0</td>\n",
              "      <td>3</td>\n",
              "      <td>0.532139</td>\n",
              "      <td>7500000</td>\n",
              "      <td>0.525773</td>\n",
              "      <td>0.564361</td>\n",
              "      <td>0.442707</td>\n",
              "      <td>3</td>\n",
              "    </tr>\n",
              "    <tr>\n",
              "      <th>5269</th>\n",
              "      <td>2</td>\n",
              "      <td>0</td>\n",
              "      <td>2200</td>\n",
              "      <td>0.564552</td>\n",
              "      <td>0</td>\n",
              "      <td>4</td>\n",
              "      <td>0.532139</td>\n",
              "      <td>11000000</td>\n",
              "      <td>0.525773</td>\n",
              "      <td>0.564361</td>\n",
              "      <td>0.442707</td>\n",
              "      <td>3</td>\n",
              "    </tr>\n",
              "  </tbody>\n",
              "</table>\n",
              "<p>5270 rows × 12 columns</p>\n",
              "</div>"
            ],
            "text/plain": [
              "      age  amneties   area  atmDistance  balconies  bathrooms  \\\n",
              "0       0         0   1250     0.000000          1          3   \n",
              "1       0         0   1500     0.000000          1          3   \n",
              "2       0         0   1000     0.000000          1          3   \n",
              "3       0         0   1500     0.000000          1          3   \n",
              "4       0         0  18000     0.495988          0          0   \n",
              "...   ...       ...    ...          ...        ...        ...   \n",
              "5265    2         0   2200     0.244597          0          4   \n",
              "5266    2         0   2900     0.564552          0          4   \n",
              "5267    2         0   2000     0.564552          0          4   \n",
              "5268    2         0   1800     0.564552          0          3   \n",
              "5269    2         0   2200     0.564552          0          4   \n",
              "\n",
              "      hospitalDistance     price  restrauntDistance  schoolDistance  \\\n",
              "0             0.000000   3300000           0.000000        0.000000   \n",
              "1             0.000000   3800000           0.000000        0.000000   \n",
              "2             0.000000   3500000           0.000000        0.000000   \n",
              "3             0.000000   3550000           0.000000        0.266872   \n",
              "4             0.506733  20400000           0.433646        0.466568   \n",
              "...                ...       ...                ...             ...   \n",
              "5265          0.248962   8000000           0.269173        0.262217   \n",
              "5266          0.532139   9500000           0.525773        0.564361   \n",
              "5267          0.532139   9500000           0.525773        0.564361   \n",
              "5268          0.532139   7500000           0.525773        0.564361   \n",
              "5269          0.532139  11000000           0.525773        0.564361   \n",
              "\n",
              "      shoppingDistance  status  \n",
              "0             0.000000       2  \n",
              "1             0.000000       2  \n",
              "2             0.000000       2  \n",
              "3             0.000000       2  \n",
              "4             0.396720       1  \n",
              "...                ...     ...  \n",
              "5265          0.252135       3  \n",
              "5266          0.442707       3  \n",
              "5267          0.442707       3  \n",
              "5268          0.442707       3  \n",
              "5269          0.442707       3  \n",
              "\n",
              "[5270 rows x 12 columns]"
            ]
          },
          "execution_count": 2,
          "metadata": {},
          "output_type": "execute_result"
        }
      ],
      "source": [
        "df = pd.read_csv(\"data.csv\")\n",
        "df"
      ]
    },
    {
      "cell_type": "code",
      "execution_count": null,
      "id": "2c2e8b4b",
      "metadata": {
        "id": "2c2e8b4b",
        "outputId": "608b068a-7230-478b-a04a-23e856c6dd13"
      },
      "outputs": [
        {
          "data": {
            "text/plain": [
              "age                  0\n",
              "amneties             0\n",
              "area                 0\n",
              "atmDistance          0\n",
              "balconies            0\n",
              "bathrooms            0\n",
              "hospitalDistance     0\n",
              "price                0\n",
              "restrauntDistance    0\n",
              "schoolDistance       0\n",
              "shoppingDistance     0\n",
              "status               0\n",
              "dtype: int64"
            ]
          },
          "execution_count": 6,
          "metadata": {},
          "output_type": "execute_result"
        }
      ],
      "source": [
        "df.isnull().sum()"
      ]
    },
    {
      "cell_type": "code",
      "execution_count": null,
      "id": "20627088",
      "metadata": {
        "id": "20627088",
        "outputId": "96c184ab-363b-406d-d922-8b2e21263795"
      },
      "outputs": [
        {
          "name": "stdout",
          "output_type": "stream",
          "text": [
            "<class 'pandas.core.frame.DataFrame'>\n",
            "RangeIndex: 5270 entries, 0 to 5269\n",
            "Data columns (total 12 columns):\n",
            " #   Column             Non-Null Count  Dtype  \n",
            "---  ------             --------------  -----  \n",
            " 0   age                5270 non-null   int64  \n",
            " 1   amneties           5270 non-null   int64  \n",
            " 2   area               5270 non-null   int64  \n",
            " 3   atmDistance        5270 non-null   float64\n",
            " 4   balconies          5270 non-null   int64  \n",
            " 5   bathrooms          5270 non-null   int64  \n",
            " 6   hospitalDistance   5270 non-null   float64\n",
            " 7   price              5270 non-null   int64  \n",
            " 8   restrauntDistance  5270 non-null   float64\n",
            " 9   schoolDistance     5270 non-null   float64\n",
            " 10  shoppingDistance   5270 non-null   float64\n",
            " 11  status             5270 non-null   int64  \n",
            "dtypes: float64(5), int64(7)\n",
            "memory usage: 494.2 KB\n"
          ]
        }
      ],
      "source": [
        "df.info()"
      ]
    },
    {
      "cell_type": "code",
      "execution_count": null,
      "id": "f377020e",
      "metadata": {
        "id": "f377020e",
        "outputId": "72f72d12-3333-4c70-dd18-04a4b88fb1a2"
      },
      "outputs": [
        {
          "data": {
            "text/html": [
              "<div>\n",
              "<style scoped>\n",
              "    .dataframe tbody tr th:only-of-type {\n",
              "        vertical-align: middle;\n",
              "    }\n",
              "\n",
              "    .dataframe tbody tr th {\n",
              "        vertical-align: top;\n",
              "    }\n",
              "\n",
              "    .dataframe thead th {\n",
              "        text-align: right;\n",
              "    }\n",
              "</style>\n",
              "<table border=\"1\" class=\"dataframe\">\n",
              "  <thead>\n",
              "    <tr style=\"text-align: right;\">\n",
              "      <th></th>\n",
              "      <th>age</th>\n",
              "      <th>amneties</th>\n",
              "      <th>area</th>\n",
              "      <th>atmDistance</th>\n",
              "      <th>balconies</th>\n",
              "      <th>bathrooms</th>\n",
              "      <th>hospitalDistance</th>\n",
              "      <th>price</th>\n",
              "      <th>restrauntDistance</th>\n",
              "      <th>schoolDistance</th>\n",
              "      <th>shoppingDistance</th>\n",
              "      <th>status</th>\n",
              "    </tr>\n",
              "  </thead>\n",
              "  <tbody>\n",
              "    <tr>\n",
              "      <th>count</th>\n",
              "      <td>5270.000000</td>\n",
              "      <td>5270.000000</td>\n",
              "      <td>5270.000000</td>\n",
              "      <td>5270.000000</td>\n",
              "      <td>5270.000000</td>\n",
              "      <td>5270.000000</td>\n",
              "      <td>5270.000000</td>\n",
              "      <td>5.270000e+03</td>\n",
              "      <td>5270.000000</td>\n",
              "      <td>5270.000000</td>\n",
              "      <td>5270.000000</td>\n",
              "      <td>5270.00000</td>\n",
              "    </tr>\n",
              "    <tr>\n",
              "      <th>mean</th>\n",
              "      <td>0.570209</td>\n",
              "      <td>0.597723</td>\n",
              "      <td>2221.585579</td>\n",
              "      <td>0.239448</td>\n",
              "      <td>0.880076</td>\n",
              "      <td>2.829602</td>\n",
              "      <td>0.241893</td>\n",
              "      <td>6.703021e+06</td>\n",
              "      <td>0.264998</td>\n",
              "      <td>0.228714</td>\n",
              "      <td>0.230307</td>\n",
              "      <td>2.06907</td>\n",
              "    </tr>\n",
              "    <tr>\n",
              "      <th>std</th>\n",
              "      <td>2.866271</td>\n",
              "      <td>1.824070</td>\n",
              "      <td>9015.673757</td>\n",
              "      <td>0.316394</td>\n",
              "      <td>0.597681</td>\n",
              "      <td>0.945766</td>\n",
              "      <td>0.259047</td>\n",
              "      <td>1.091517e+07</td>\n",
              "      <td>0.407329</td>\n",
              "      <td>0.249311</td>\n",
              "      <td>0.267124</td>\n",
              "      <td>0.42212</td>\n",
              "    </tr>\n",
              "    <tr>\n",
              "      <th>min</th>\n",
              "      <td>0.000000</td>\n",
              "      <td>0.000000</td>\n",
              "      <td>10.000000</td>\n",
              "      <td>0.000000</td>\n",
              "      <td>0.000000</td>\n",
              "      <td>0.000000</td>\n",
              "      <td>0.000000</td>\n",
              "      <td>1.000000e+04</td>\n",
              "      <td>0.000000</td>\n",
              "      <td>0.000000</td>\n",
              "      <td>0.000000</td>\n",
              "      <td>1.00000</td>\n",
              "    </tr>\n",
              "    <tr>\n",
              "      <th>25%</th>\n",
              "      <td>0.000000</td>\n",
              "      <td>0.000000</td>\n",
              "      <td>1500.000000</td>\n",
              "      <td>0.000000</td>\n",
              "      <td>1.000000</td>\n",
              "      <td>3.000000</td>\n",
              "      <td>0.000000</td>\n",
              "      <td>3.800000e+06</td>\n",
              "      <td>0.000000</td>\n",
              "      <td>0.000000</td>\n",
              "      <td>0.000000</td>\n",
              "      <td>2.00000</td>\n",
              "    </tr>\n",
              "    <tr>\n",
              "      <th>50%</th>\n",
              "      <td>0.000000</td>\n",
              "      <td>0.000000</td>\n",
              "      <td>1500.000000</td>\n",
              "      <td>0.078685</td>\n",
              "      <td>1.000000</td>\n",
              "      <td>3.000000</td>\n",
              "      <td>0.229837</td>\n",
              "      <td>4.500000e+06</td>\n",
              "      <td>0.000000</td>\n",
              "      <td>0.236246</td>\n",
              "      <td>0.198971</td>\n",
              "      <td>2.00000</td>\n",
              "    </tr>\n",
              "    <tr>\n",
              "      <th>75%</th>\n",
              "      <td>0.000000</td>\n",
              "      <td>0.000000</td>\n",
              "      <td>2100.000000</td>\n",
              "      <td>0.360139</td>\n",
              "      <td>1.000000</td>\n",
              "      <td>3.000000</td>\n",
              "      <td>0.425555</td>\n",
              "      <td>7.600000e+06</td>\n",
              "      <td>0.443194</td>\n",
              "      <td>0.343254</td>\n",
              "      <td>0.389779</td>\n",
              "      <td>2.00000</td>\n",
              "    </tr>\n",
              "    <tr>\n",
              "      <th>max</th>\n",
              "      <td>122.000000</td>\n",
              "      <td>10.000000</td>\n",
              "      <td>435600.000000</td>\n",
              "      <td>2.695185</td>\n",
              "      <td>8.000000</td>\n",
              "      <td>16.000000</td>\n",
              "      <td>1.186371</td>\n",
              "      <td>4.200000e+08</td>\n",
              "      <td>3.091908</td>\n",
              "      <td>1.109662</td>\n",
              "      <td>1.149803</td>\n",
              "      <td>3.00000</td>\n",
              "    </tr>\n",
              "  </tbody>\n",
              "</table>\n",
              "</div>"
            ],
            "text/plain": [
              "               age     amneties           area  atmDistance    balconies  \\\n",
              "count  5270.000000  5270.000000    5270.000000  5270.000000  5270.000000   \n",
              "mean      0.570209     0.597723    2221.585579     0.239448     0.880076   \n",
              "std       2.866271     1.824070    9015.673757     0.316394     0.597681   \n",
              "min       0.000000     0.000000      10.000000     0.000000     0.000000   \n",
              "25%       0.000000     0.000000    1500.000000     0.000000     1.000000   \n",
              "50%       0.000000     0.000000    1500.000000     0.078685     1.000000   \n",
              "75%       0.000000     0.000000    2100.000000     0.360139     1.000000   \n",
              "max     122.000000    10.000000  435600.000000     2.695185     8.000000   \n",
              "\n",
              "         bathrooms  hospitalDistance         price  restrauntDistance  \\\n",
              "count  5270.000000       5270.000000  5.270000e+03        5270.000000   \n",
              "mean      2.829602          0.241893  6.703021e+06           0.264998   \n",
              "std       0.945766          0.259047  1.091517e+07           0.407329   \n",
              "min       0.000000          0.000000  1.000000e+04           0.000000   \n",
              "25%       3.000000          0.000000  3.800000e+06           0.000000   \n",
              "50%       3.000000          0.229837  4.500000e+06           0.000000   \n",
              "75%       3.000000          0.425555  7.600000e+06           0.443194   \n",
              "max      16.000000          1.186371  4.200000e+08           3.091908   \n",
              "\n",
              "       schoolDistance  shoppingDistance      status  \n",
              "count     5270.000000       5270.000000  5270.00000  \n",
              "mean         0.228714          0.230307     2.06907  \n",
              "std          0.249311          0.267124     0.42212  \n",
              "min          0.000000          0.000000     1.00000  \n",
              "25%          0.000000          0.000000     2.00000  \n",
              "50%          0.236246          0.198971     2.00000  \n",
              "75%          0.343254          0.389779     2.00000  \n",
              "max          1.109662          1.149803     3.00000  "
            ]
          },
          "execution_count": 8,
          "metadata": {},
          "output_type": "execute_result"
        }
      ],
      "source": [
        "df.describe()"
      ]
    },
    {
      "cell_type": "code",
      "execution_count": null,
      "id": "da5608d6",
      "metadata": {
        "id": "da5608d6",
        "outputId": "e8c0fe49-7fd1-4cc4-ad50-13d9da24f52f"
      },
      "outputs": [
        {
          "data": {
            "image/png": "[encoded data removed]",
            "text/plain": [
              "<Figure size 1080x360 with 1 Axes>"
            ]
          },
          "metadata": {
            "needs_background": "light"
          },
          "output_type": "display_data"
        }
      ],
      "source": [
        "age = df['age'].value_counts().index\n",
        "amount = df['age'].value_counts().values\n",
        "dictAgeCount = {\n",
        "    'Age' : age,\n",
        "    'Amount' : amount\n",
        "}\n",
        "dfAgeCount = pd.DataFrame(dictAgeCount)\n",
        "dfAgeCount['Age'] = dfAgeCount['Age'].astype(str)\n",
        "plt.figure(figsize=(15,5))\n",
        "plt.bar(data = dfAgeCount, x = 'Age', height = 'Amount',color = 'blue')\n",
        "plt.title(\"Count Value: 'Age'\")\n",
        "for i in dfAgeCount['Age']:\n",
        "    x = i\n",
        "    y = dfAgeCount['Amount'].loc[dfAgeCount['Age']==i].values\n",
        "    s = y[0] \n",
        "    y = y[0] + 200\n",
        "    plt.text(x,y,s, ha = 'center')\n",
        "plt.ylim(0,5500)\n",
        "plt.xlabel('Age')\n",
        "plt.ylabel('Amount') \n",
        "plt.show()"
      ]
    },
    {
      "cell_type": "markdown",
      "id": "70e9a3f5",
      "metadata": {
        "id": "70e9a3f5"
      },
      "source": [
        "Most of the houses are less than one year.\n",
        "There are 4773 houses that are less than one year.\n",
        "There is only one oldest house and it is 122 years old.\n",
        "5 Age with the most number of houses are houses that are less than one year with 4773 houses, 2 years old houses that are 165 houses, 6 years old house that are 111 houses, 4 years houses that are 91 houses, and 8 years old houses that are 32 houses.\n",
        "Some ages only have one house like 50 years old house, 122 years old house, 36 years old house, 32 years old house, 42 years old house, 13 years old house, 17 years old house, 19 years old house."
      ]
    },
    {
      "cell_type": "code",
      "execution_count": null,
      "id": "44ddd7be",
      "metadata": {
        "id": "44ddd7be",
        "outputId": "e0e32fe2-a178-480b-f96f-c81e87a07af7"
      },
      "outputs": [
        {
          "data": {
            "image/png": "[encoded data removed]",
            "text/plain": [
              "<Figure size 1080x360 with 1 Axes>"
            ]
          },
          "metadata": {
            "needs_background": "light"
          },
          "output_type": "display_data"
        }
      ],
      "source": [
        "amneties = df['amneties'].value_counts().index\n",
        "amount = df['amneties'].value_counts().values\n",
        "dictAmnetiesCount = {\n",
        "    'Amneties' : amneties,\n",
        "    'Amount' : amount\n",
        "}\n",
        "dfAmnetiesCount = pd.DataFrame(dictAmnetiesCount)\n",
        "dfAmnetiesCount['Amneties'] = dfAmnetiesCount['Amneties'].astype(str)\n",
        "plt.figure(figsize=(15,5))\n",
        "plt.bar(data = dfAmnetiesCount, x = 'Amneties', height = 'Amount',color = 'maroon')\n",
        "plt.title(\"Count Value: 'Amneties'\")\n",
        "for i in dfAmnetiesCount['Amneties']:\n",
        "    x = i\n",
        "    y = dfAmnetiesCount['Amount'].loc[dfAmnetiesCount['Amneties']==i].values\n",
        "    s = y[0] \n",
        "    y = y[0] + 200\n",
        "    plt.text(x,y,s, ha = 'center')\n",
        "plt.ylim(0,5500)\n",
        "plt.xlabel('Amneties')\n",
        "plt.ylabel('Amount') \n",
        "plt.show()"
      ]
    },
    {
      "cell_type": "markdown",
      "id": "54f10f70",
      "metadata": {
        "id": "54f10f70"
      },
      "source": [
        "Most of the house are 0 amneties with 4484 houses.\n",
        "Least of the house are 5 amneties with 30 houses.\n",
        "5 amneties that has most houses are 0 amneties houses, 2 amneties houses, 1 amneties houses, 10 amneties houses and 6 amneties houses.\n",
        "5 amneties that has least houses are 5 amneties houses, 3 amneties houses, 8 amneties houses, 4 amneties houses and 7 amneties houses.\n",
        "Most of the houses dont have amneties"
      ]
    },
    {
      "cell_type": "code",
      "execution_count": null,
      "id": "f3997e3b",
      "metadata": {
        "id": "f3997e3b",
        "outputId": "23356f6b-f14f-444d-fc51-9116495ca295"
      },
      "outputs": [
        {
          "data": {
            "image/png": "[encoded data removed]",
            "text/plain": [
              "<Figure size 1080x360 with 1 Axes>"
            ]
          },
          "metadata": {
            "needs_background": "light"
          },
          "output_type": "display_data"
        }
      ],
      "source": [
        "balconies = df['balconies'].value_counts().index\n",
        "amount = df['balconies'].value_counts().values\n",
        "dictBalconiesCount = {\n",
        "    'Balconies' : balconies,\n",
        "    'Amount' : amount\n",
        "}\n",
        "dfBalconiesCount = pd.DataFrame(dictBalconiesCount)\n",
        "dfBalconiesCount['Balconies'] = dfBalconiesCount['Balconies'].astype(str)\n",
        "plt.figure(figsize=(15,5))\n",
        "plt.bar(data = dfBalconiesCount, x = 'Balconies', height = 'Amount',color = 'maroon')\n",
        "plt.title(\"Count Value: 'Balconies'\")\n",
        "for i in dfBalconiesCount['Balconies']:\n",
        "    x = i\n",
        "    y = dfBalconiesCount['Amount'].loc[dfBalconiesCount['Balconies']==i].values\n",
        "    s = y[0] \n",
        "    y = y[0] + 200\n",
        "    plt.text(x,y,s, ha = 'center')\n",
        "plt.ylim(0,5500)\n",
        "plt.xlabel('Balconies')\n",
        "plt.ylabel('Amount') \n",
        "plt.show()"
      ]
    },
    {
      "cell_type": "markdown",
      "id": "f74de634",
      "metadata": {
        "id": "f74de634"
      },
      "source": [
        "Most of the houses have at least one balcony\n",
        "There are 3918 houses that have one balcony\n",
        "The highest number of balconies that a house has is 8 balconies\n",
        "There are also a house with 7 balconies\n",
        "3 highest number of houses are houses that have 1 balcony, houses that have no balcony, and houses that have 2 balconies"
      ]
    },
    {
      "cell_type": "code",
      "execution_count": null,
      "id": "0029d4e8",
      "metadata": {
        "id": "0029d4e8",
        "outputId": "9e1be157-ae57-4361-878b-24d8744ecd41"
      },
      "outputs": [
        {
          "data": {
            "image/png": "[encoded data removed]",
            "text/plain": [
              "<Figure size 1080x360 with 1 Axes>"
            ]
          },
          "metadata": {
            "needs_background": "light"
          },
          "output_type": "display_data"
        }
      ],
      "source": [
        "bathrooms = df['bathrooms'].value_counts().index\n",
        "amount = df['bathrooms'].value_counts().values\n",
        "dictBathroomsCount = {\n",
        "    'Bathrooms' : bathrooms,\n",
        "    'Amount' : amount\n",
        "}\n",
        "dfBathroomsCount = pd.DataFrame(dictBathroomsCount)\n",
        "dfBathroomsCount['Bathrooms'] = dfBathroomsCount['Bathrooms'].astype(str)\n",
        "plt.figure(figsize=(15,5))\n",
        "plt.bar(data = dfBathroomsCount, x = 'Bathrooms', height = 'Amount',color = 'maroon')\n",
        "plt.title(\"Count Value: 'Bathrooms'\")\n",
        "for i in dfBathroomsCount['Bathrooms']:\n",
        "    x = i\n",
        "    y = dfBathroomsCount['Amount'].loc[dfBathroomsCount['Bathrooms']==i].values\n",
        "    s = y[0] \n",
        "    y = y[0] + 200\n",
        "    plt.text(x,y,s, ha = 'center')\n",
        "plt.ylim(0,5500)\n",
        "plt.xlabel('Bathrooms')\n",
        "plt.ylabel('Amount') \n",
        "plt.show()"
      ]
    },
    {
      "cell_type": "markdown",
      "id": "7c6baf60",
      "metadata": {
        "id": "7c6baf60"
      },
      "source": [
        "Most houses have 3 bathrooms.\n",
        "There are some houses that have no bathroom.\n",
        "The highest number of bathrooms in a house is 16 bathrooms.\n",
        "The least number of houses based on the number of bathrooms are house with 10 bathrooms and house with 16 bathrooms.\n",
        "3 highest number of houses are houses that have 3 bathrooms, houses that have 4 bathrooms, and houses that has no bathrooms."
      ]
    },
    {
      "cell_type": "code",
      "execution_count": null,
      "id": "cdd8c71c",
      "metadata": {
        "id": "cdd8c71c",
        "outputId": "a8393d0e-8d6a-4599-ad9c-d3c96dcc9aa2"
      },
      "outputs": [
        {
          "data": {
            "image/png": "[encoded data removed]",
            "text/plain": [
              "<Figure size 1080x360 with 1 Axes>"
            ]
          },
          "metadata": {
            "needs_background": "light"
          },
          "output_type": "display_data"
        }
      ],
      "source": [
        "status = df['status'].value_counts().index\n",
        "amount = df['status'].value_counts().values\n",
        "dictStatusCount = {\n",
        "    'Status' : status,\n",
        "    'Amount' : amount\n",
        "}\n",
        "dfStatusCount = pd.DataFrame(dictStatusCount)\n",
        "dfStatusCount['Status'] = dfStatusCount['Status'].astype(str)\n",
        "plt.figure(figsize=(15,5))\n",
        "plt.bar(data = dfStatusCount, x = 'Status', height = 'Amount',color = 'maroon')\n",
        "plt.title(\"Count Value: 'Status'\")\n",
        "for i in dfStatusCount['Status']:\n",
        "    x = i\n",
        "    y = dfStatusCount['Amount'].loc[dfStatusCount['Status']==i].values\n",
        "    s = y[0] \n",
        "    y = y[0] + 200\n",
        "    plt.text(x,y,s, ha = 'center')\n",
        "plt.ylim(0,5500)\n",
        "plt.xlabel('Status')\n",
        "plt.ylabel('Amount') \n",
        "plt.show()"
      ]
    },
    {
      "cell_type": "markdown",
      "id": "2b4c70a8",
      "metadata": {
        "id": "2b4c70a8"
      },
      "source": [
        "There are 4306 houses that are under construction, 664 houses that are ready to move, and 300 houses that are unfurnished.\n",
        "The highest number of houses are houses that are under construction.\n",
        "The lowest number of houses are houses that are unfurnished."
      ]
    },
    {
      "cell_type": "code",
      "execution_count": null,
      "id": "3ab4cdae",
      "metadata": {
        "id": "3ab4cdae",
        "outputId": "2248f6b3-d09b-4a43-e257-75493e8ff580"
      },
      "outputs": [
        {
          "data": {
            "text/plain": [
              "Text(0.5, 1.0, 'Correlation Heatmap')"
            ]
          },
          "execution_count": 6,
          "metadata": {},
          "output_type": "execute_result"
        },
        {
          "data": {
            "image/png": "[encoded data removed]",
            "text/plain": [
              "<Figure size 720x720 with 2 Axes>"
            ]
          },
          "metadata": {
            "needs_background": "light"
          },
          "output_type": "display_data"
        }
      ],
      "source": [
        "plt.figure(figsize = (10,10))\n",
        "sns.heatmap(df.corr(), annot=True, cmap = 'Blues', linewidth = 0.01)\n",
        "plt.title(\"Correlation Heatmap\")"
      ]
    },
    {
      "cell_type": "markdown",
      "id": "06a5bf62",
      "metadata": {
        "id": "06a5bf62"
      },
      "source": [
        "atmDistance has big positive correlation with hospitalDistance(0.81), restaurantDistance(0.95), schoolDistance(0.8) and shoppingDistance(0.87). This indicates that the existency of ATM machine is influenced by the existency of hospital, restaurant, school and shopping area.\n",
        "hospitalDistance has big positive correlation with atmDistance(0.81), restaurantDistance(0.68), schoolDistance(0.95) and shoppingDistance(0.96). This indicates that the exitency of Hospital can influence the existency of ATM Machine, Restaurant, School, and Shopping area. School and Shopping area have the 2 highest correaltion with hospital, this can be indicates that this 2 places have very big chance to be built near hospital. There is 80% chance that there is an ATM machine inside the hospital.\n",
        "restaurantDistance has big positive correlation with atmDistance(0.95), hospitalDistance(0.68), schoolDistance(0.63), and shoppingDistance(0.74). This indicates that there is high chance an ATM Machine is placed in a restaurant. The probability a shopping area is near restaurant is higher than the probability hospital or school is near restaurant.\n",
        "schoolDistance has big positive correlation with atmDistance(0.8), hospitalDistance(0.95), restaurantDistance(0.63), and shoppingDistance(0.95). This indicates that there is high chance hospital and shopping area are built near school. There are 80% chance an ATM machine is placed inside school.\n",
        "shoppingDistance has big positive correlation with atmDistance(0.87), hospitalDistance(0.96), restaurantDistance(0.74), schoolDistance(0.95). This indicate that shopping area there is high chance that hospital and school is built near shopping area. There is 87% chance that a ATM machine is placed in shopping area.\n",
        "price variable has significant positive correlation with shoppingDistance, SchoolDistance, restaurantDistance, hospitalDistance,atmDistance, area and amneties. This means that these variables able to be considered to make machine learning model to predict the house price."
      ]
    },
    {
      "cell_type": "code",
      "execution_count": null,
      "id": "8bc4abaf",
      "metadata": {
        "id": "8bc4abaf",
        "outputId": "5061b8db-e4ff-4bf0-8fe4-771d2bc66d46"
      },
      "outputs": [
        {
          "data": {
            "image/png": "[encoded data removed]",
            "text/plain": [
              "<Figure size 1080x576 with 1 Axes>"
            ]
          },
          "metadata": {
            "needs_background": "light"
          },
          "output_type": "display_data"
        }
      ],
      "source": [
        "plt.figure(figsize=(15,8))\n",
        "sns.boxplot(data = df, x = 'status',y = 'price')\n",
        "plt.title('Distribution of Price by Status')\n",
        "plt.show()"
      ]
    },
    {
      "cell_type": "markdown",
      "id": "5c60f8a9",
      "metadata": {
        "id": "5c60f8a9"
      },
      "source": [
        "Unfurnished house type has bigger common price range than ready to move house and under construction house eventhough the number of unfurnished house is the smallest.\n",
        "Ready to move house has bigger common price range than under construction house and smaller common price than unfurnished house but this type of houses have outliers that have very high price and higher than unfurnished house and under construction house.\n",
        "Under construction house has the smallest common price range eventhough this type of houses has the biggest number of house type."
      ]
    },
    {
      "cell_type": "code",
      "execution_count": null,
      "id": "027bc2cb",
      "metadata": {
        "id": "027bc2cb",
        "outputId": "842e64d1-38fc-4c90-8b21-26c3d64474fe"
      },
      "outputs": [
        {
          "data": {
            "image/png": "[encoded data removed]",
            "text/plain": [
              "<Figure size 1080x576 with 1 Axes>"
            ]
          },
          "metadata": {
            "needs_background": "light"
          },
          "output_type": "display_data"
        }
      ],
      "source": [
        "plt.figure(figsize=(15,8))\n",
        "sns.boxplot(data = df, x = 'status',y = 'bathrooms')\n",
        "plt.title('Distribution of Price by Bathrooms')\n",
        "plt.show()"
      ]
    },
    {
      "cell_type": "markdown",
      "id": "e660a581",
      "metadata": {
        "id": "e660a581"
      },
      "source": [
        "Unfurnished house has the smallest common number of bathrooms range and this type of house does not have any outliers of number of bathrooms. This indicates that most of the unfurnished houses don't have bathroom.\n",
        "Under construction house has higher common number of bathrooms range but the range still small eventhough this type of house has some outliers. This indicates that this type of house maybe in construction to build bathrooms but the number is still small.\n",
        "Ready to move house has the biggest common number of bathrooms range. The minimum value of this type of house is 0 and the maximum value is 7. However there are some outliers that appear to have bigger number of bathrooms than the maximum value of the common number of bathrooms range. Beside that, this plot shows that ready to move house commonly appears to have 2 to 4 bathrooms."
      ]
    },
    {
      "cell_type": "code",
      "execution_count": null,
      "id": "c7b04aa2",
      "metadata": {
        "id": "c7b04aa2",
        "outputId": "a5f99848-6c66-485c-e9b4-ab56f6b648cc"
      },
      "outputs": [
        {
          "data": {
            "image/png": "[encoded data removed]",
            "text/plain": [
              "<Figure size 1080x576 with 1 Axes>"
            ]
          },
          "metadata": {
            "needs_background": "light"
          },
          "output_type": "display_data"
        }
      ],
      "source": [
        "plt.figure(figsize=(15,8))\n",
        "sns.boxplot(data = df, x = 'status',y = 'balconies')\n",
        "plt.title('Distribution of Price by Balconies')\n",
        "plt.show()"
      ]
    },
    {
      "cell_type": "markdown",
      "id": "2f3eeeb7",
      "metadata": {
        "id": "2f3eeeb7"
      },
      "source": [
        "Unfurnished house has the smallest common number of balconies range and this type of house does not have any outliers of number of balconies. This indicates that most of the unfurnished houses don't have balconies.\n",
        "Under construction house has higher common number of balconies range but the range still small eventhough this type of house has some outliers. This indicates that this type of house maybe in construction to build balconies but the number is still small.\n",
        "Ready to move house has the biggest common number of balconies range. the maximum value is 2. However there are some outliers that appear to have bigger number of balconies than the maximum value of the common number of balconies range. Beside that, this plot shows that ready to move house commonly appears to have 0 to 1 bathrooms.\n",
        "Distribution of Area by Status"
      ]
    },
    {
      "cell_type": "code",
      "execution_count": null,
      "id": "b8574998",
      "metadata": {
        "id": "b8574998",
        "outputId": "f825f1ba-8e77-46b2-84b8-6901756971d6"
      },
      "outputs": [
        {
          "data": {
            "image/png": "[encoded data removed]",
            "text/plain": [
              "<Figure size 1080x576 with 1 Axes>"
            ]
          },
          "metadata": {
            "needs_background": "light"
          },
          "output_type": "display_data"
        }
      ],
      "source": [
        "plt.figure(figsize=(15,8))\n",
        "sns.boxplot(data = df, x = 'status',y = 'area')\n",
        "plt.title('Distribution of Area by Status')\n",
        "plt.show()"
      ]
    },
    {
      "cell_type": "markdown",
      "id": "4e1b7438",
      "metadata": {
        "id": "4e1b7438"
      },
      "source": [
        "Unfurnished house has the biggest common area range. The minimum area range is around 0 and the maximum area range is around 30000. This type of house has some outliers that bigger than common range area, and this indicates that unfurnished house maybe too big to be furnished.\n",
        "Under construction house has the smallest area range. This type of house has outliers but the outliers seems not to far from the common area range.\n",
        "Ready to move house has common area range bigger than under construction house, and its outliers not too far from the common range area."
      ]
    },
    {
      "cell_type": "code",
      "execution_count": null,
      "id": "3e8618e8",
      "metadata": {
        "id": "3e8618e8"
      },
      "outputs": [],
      "source": [
        "def scatterRelationship(list):\n",
        "    for i in list:\n",
        "        plt.figure(figsize = (10,5))\n",
        "        plt.scatter(data = df, x = i, y= 'price', color = 'maroon')\n",
        "        plt.xlabel(i)\n",
        "        plt.ylabel('price')\n",
        "        title = \"Relationship between \"+ i + \" and price\"\n",
        "        plt.title(title)\n",
        "        plt.show()"
      ]
    },
    {
      "cell_type": "code",
      "execution_count": null,
      "id": "e2e800bd",
      "metadata": {
        "id": "e2e800bd",
        "outputId": "b97c04d0-440a-4ca4-ad3c-2339148bca0e"
      },
      "outputs": [
        {
          "data": {
            "image/png": "[encoded data removed]",
            "text/plain": [
              "<Figure size 720x360 with 1 Axes>"
            ]
          },
          "metadata": {
            "needs_background": "light"
          },
          "output_type": "display_data"
        },
        {
          "data": {
            "image/png": "[encoded data removed]",
            "text/plain": [
              "<Figure size 720x360 with 1 Axes>"
            ]
          },
          "metadata": {
            "needs_background": "light"
          },
          "output_type": "display_data"
        }
      ],
      "source": [
        "significantCorColums = ['amneties','area',]\n",
        "scatterRelationship(significantCorColums)"
      ]
    },
    {
      "cell_type": "code",
      "execution_count": null,
      "id": "51a3a812",
      "metadata": {
        "id": "51a3a812",
        "outputId": "eb0df3aa-e692-48cd-ef29-6c0d88445eb6"
      },
      "outputs": [
        {
          "data": {
            "image/png": "[encoded data removed]",
            "text/plain": [
              "<Figure size 720x360 with 1 Axes>"
            ]
          },
          "metadata": {
            "needs_background": "light"
          },
          "output_type": "display_data"
        },
        {
          "data": {
            "image/png": "[encoded data removed]",
            "text/plain": [
              "<Figure size 720x360 with 1 Axes>"
            ]
          },
          "metadata": {
            "needs_background": "light"
          },
          "output_type": "display_data"
        }
      ],
      "source": [
        "significantCorColums = [ 'atmDistance','hospitalDistance']\n",
        "scatterRelationship(significantCorColums)"
      ]
    },
    {
      "cell_type": "code",
      "execution_count": null,
      "id": "48a2bd8b",
      "metadata": {
        "id": "48a2bd8b",
        "outputId": "9f64583a-1f39-486a-da86-ba1383eb7e1a"
      },
      "outputs": [
        {
          "data": {
            "image/png": "[encoded data removed]",
            "text/plain": [
              "<Figure size 720x360 with 1 Axes>"
            ]
          },
          "metadata": {
            "needs_background": "light"
          },
          "output_type": "display_data"
        },
        {
          "data": {
            "image/png": "[encoded data removed]",
            "text/plain": [
              "<Figure size 720x360 with 1 Axes>"
            ]
          },
          "metadata": {
            "needs_background": "light"
          },
          "output_type": "display_data"
        }
      ],
      "source": [
        "significantCorColums = ['schoolDistance','shoppingDistance']\n",
        "scatterRelationship(significantCorColums)"
      ]
    },
    {
      "cell_type": "code",
      "execution_count": null,
      "id": "e561e3ee",
      "metadata": {
        "id": "e561e3ee",
        "outputId": "2a8bef65-106d-4e8a-f711-9439e2d7c258"
      },
      "outputs": [
        {
          "data": {
            "image/png": "[encoded data removed]",
            "text/plain": [
              "<Figure size 720x360 with 1 Axes>"
            ]
          },
          "metadata": {
            "needs_background": "light"
          },
          "output_type": "display_data"
        }
      ],
      "source": [
        "significantCorColums = ['restrauntDistance']\n",
        "scatterRelationship(significantCorColums)"
      ]
    },
    {
      "cell_type": "markdown",
      "id": "acac0cd1",
      "metadata": {
        "id": "acac0cd1"
      },
      "source": [
        "Based on \"Relationship between amneties and price\" Scatter Plot, this figure clearly shows that the bigger the value of amneties don't mean that the price will be higher. The distribution of price commonly on range between 0 to aroun 20000000. Beside that this scatter shows that even houses have 0 amneties, the house price can be higher than every houses that have more than 0 amneties. The smallest price range is houses that have 4 amneties and the biggest price range is houses that has 0 amneties.\n",
        "Based on \"Relationship between area and price\" Scatter Plot, this figure shows area of houses commonly between 0 to around 25000 and eventhough not clearly shown, the bigger the house area means the higher the house price. Some houses have bigger area than common area range but the highest price of those houses are just 100000000. Some houses are in the middle of the common area range but their price can reach more than 100000000 and the highest is aroud 420000000.\n",
        "Based on \"Relationship between atmDistance and price\" Scatter Plot, this figure shows that the common atmDistance range is from around 0.2 to around 0.95 and the price is from 0 to around 20000000. Eventhough it is not really clear, this figure shows that the higher the atmDistance means the lower the house price. The highest house price has atmDistance around 0.7 but this data is unique because the higher the atmDistance, the price should be lower. Houses that have almost 0 atmDistance relatively have higher price than houses that have houses bigger than almost 0.\n",
        "Based on \"Relationship between hospitalDistance and price\" Scatter Plot, this figure shows that common hospitalDistance range is from aroun 0.2 to aroud 0.8 and the price common range is from 0 to around 20000000. Same with atmDistance, the bigger the hospitalDistance means the lower the house price eventhough the highest house price is not at almost 0 value but it is at 0.8. The highest hospitalDistance is around 1.2 and there are 2 house with 1.2 hospital distance but have different price, one house price is around almost 0 and other house price is around 50000000."
      ]
    },
    {
      "cell_type": "markdown",
      "id": "2d9a5352",
      "metadata": {
        "id": "2d9a5352"
      },
      "source": [
        "Based on \"Relationship between restaurantDistance and price\" Scatter Plot, this figure shows that common hospitalDistance range is around 0.2 to around 0.9 and the price on that range is from around almost 0 to 25000000. There are some houses that have higher restaurantDistance than common restaurantDistance range and some of them have high price. The highest restaurant distance range is around 3.1 and the price is almost around 0. The highest price house has restaurantDistance value around 0.7.\n",
        "Based on \"Relationship between schoolDistance and price\" Scatter Plot, this figure shows that common schoolDistance range is from around 1.8 to around 0.9 and the common price range on that range is from around almost zero to 15000000. the highest schoolDistance value is around 1.1 and houses price are still inside the range of common price range. The highest house price schoolDistance value is around 0.78. There are some house with the lowest schoolDistance , those houses have different price and the highest price is around 250000000.\n",
        "Based on \"Relationship between shoppingDistance and price\" Scatter Plot, this figure shows that common shoppingDistance range is from around 0.2 to around 0.8 and the common price range is from around almost 0 to around 20000000. The highest shoppingDistance range is around 1.19 and the price still inside the price common range. The highest price house shoppinDistance is around 0.85. There are some houses that have almost around almost zero shoppingDistance value and the highest house price on that shoppingDistance is around 25000000"
      ]
    },
    {
      "cell_type": "markdown",
      "id": "07ef3b21",
      "metadata": {
        "id": "07ef3b21"
      },
      "source": [
        "# Discovering Unique Outliers from Previous Figures"
      ]
    },
    {
      "cell_type": "markdown",
      "id": "ce463930",
      "metadata": {
        "id": "ce463930"
      },
      "source": [
        "Highest House price"
      ]
    },
    {
      "cell_type": "code",
      "execution_count": null,
      "id": "5cb888df",
      "metadata": {
        "id": "5cb888df",
        "outputId": "881d69da-ab78-4c66-e463-a2f346b45d1a"
      },
      "outputs": [
        {
          "data": {
            "text/html": [
              "<div>\n",
              "<style scoped>\n",
              "    .dataframe tbody tr th:only-of-type {\n",
              "        vertical-align: middle;\n",
              "    }\n",
              "\n",
              "    .dataframe tbody tr th {\n",
              "        vertical-align: top;\n",
              "    }\n",
              "\n",
              "    .dataframe thead th {\n",
              "        text-align: right;\n",
              "    }\n",
              "</style>\n",
              "<table border=\"1\" class=\"dataframe\">\n",
              "  <thead>\n",
              "    <tr style=\"text-align: right;\">\n",
              "      <th></th>\n",
              "      <th>age</th>\n",
              "      <th>amneties</th>\n",
              "      <th>area</th>\n",
              "      <th>atmDistance</th>\n",
              "      <th>balconies</th>\n",
              "      <th>bathrooms</th>\n",
              "      <th>hospitalDistance</th>\n",
              "      <th>price</th>\n",
              "      <th>restrauntDistance</th>\n",
              "      <th>schoolDistance</th>\n",
              "      <th>shoppingDistance</th>\n",
              "      <th>status</th>\n",
              "    </tr>\n",
              "  </thead>\n",
              "  <tbody>\n",
              "    <tr>\n",
              "      <th>3715</th>\n",
              "      <td>0</td>\n",
              "      <td>0</td>\n",
              "      <td>8712</td>\n",
              "      <td>0.793876</td>\n",
              "      <td>0</td>\n",
              "      <td>0</td>\n",
              "      <td>0.810543</td>\n",
              "      <td>420000000</td>\n",
              "      <td>0.779723</td>\n",
              "      <td>0.761795</td>\n",
              "      <td>0.854623</td>\n",
              "      <td>3</td>\n",
              "    </tr>\n",
              "  </tbody>\n",
              "</table>\n",
              "</div>"
            ],
            "text/plain": [
              "      age  amneties  area  atmDistance  balconies  bathrooms  \\\n",
              "3715    0         0  8712     0.793876          0          0   \n",
              "\n",
              "      hospitalDistance      price  restrauntDistance  schoolDistance  \\\n",
              "3715          0.810543  420000000           0.779723        0.761795   \n",
              "\n",
              "      shoppingDistance  status  \n",
              "3715          0.854623       3  "
            ]
          },
          "execution_count": 11,
          "metadata": {},
          "output_type": "execute_result"
        }
      ],
      "source": [
        "df.loc[df['price'] == df['price'].max()]"
      ]
    },
    {
      "cell_type": "markdown",
      "id": "e3c0a3ee",
      "metadata": {
        "id": "e3c0a3ee"
      },
      "source": [
        "This house is a new house.\n",
        "This house has status 3 that means this is a ready to move house.\n",
        "This house has ideal house area.\n",
        "This house atmDistance, hospitalDistance, restaurantDistance, schoolDistance and shoppingDistance is inside the common range of each distance.\n",
        "If this house have higher amneties value, this house may have higher price."
      ]
    },
    {
      "cell_type": "markdown",
      "id": "0cf2ea6a",
      "metadata": {
        "id": "0cf2ea6a"
      },
      "source": [
        "Highest area"
      ]
    },
    {
      "cell_type": "code",
      "execution_count": null,
      "id": "d1666569",
      "metadata": {
        "id": "d1666569",
        "outputId": "0b750261-4034-4c3d-a7a3-9479a83876e5"
      },
      "outputs": [
        {
          "data": {
            "text/html": [
              "<div>\n",
              "<style scoped>\n",
              "    .dataframe tbody tr th:only-of-type {\n",
              "        vertical-align: middle;\n",
              "    }\n",
              "\n",
              "    .dataframe tbody tr th {\n",
              "        vertical-align: top;\n",
              "    }\n",
              "\n",
              "    .dataframe thead th {\n",
              "        text-align: right;\n",
              "    }\n",
              "</style>\n",
              "<table border=\"1\" class=\"dataframe\">\n",
              "  <thead>\n",
              "    <tr style=\"text-align: right;\">\n",
              "      <th></th>\n",
              "      <th>age</th>\n",
              "      <th>amneties</th>\n",
              "      <th>area</th>\n",
              "      <th>atmDistance</th>\n",
              "      <th>balconies</th>\n",
              "      <th>bathrooms</th>\n",
              "      <th>hospitalDistance</th>\n",
              "      <th>price</th>\n",
              "      <th>restrauntDistance</th>\n",
              "      <th>schoolDistance</th>\n",
              "      <th>shoppingDistance</th>\n",
              "      <th>status</th>\n",
              "    </tr>\n",
              "  </thead>\n",
              "  <tbody>\n",
              "    <tr>\n",
              "      <th>1434</th>\n",
              "      <td>0</td>\n",
              "      <td>0</td>\n",
              "      <td>435600</td>\n",
              "      <td>0.0</td>\n",
              "      <td>0</td>\n",
              "      <td>0</td>\n",
              "      <td>0.0</td>\n",
              "      <td>100000000</td>\n",
              "      <td>0.0</td>\n",
              "      <td>0.0</td>\n",
              "      <td>0.0</td>\n",
              "      <td>1</td>\n",
              "    </tr>\n",
              "    <tr>\n",
              "      <th>5259</th>\n",
              "      <td>0</td>\n",
              "      <td>0</td>\n",
              "      <td>435600</td>\n",
              "      <td>0.0</td>\n",
              "      <td>0</td>\n",
              "      <td>0</td>\n",
              "      <td>0.0</td>\n",
              "      <td>43560000</td>\n",
              "      <td>0.0</td>\n",
              "      <td>0.0</td>\n",
              "      <td>0.0</td>\n",
              "      <td>1</td>\n",
              "    </tr>\n",
              "  </tbody>\n",
              "</table>\n",
              "</div>"
            ],
            "text/plain": [
              "      age  amneties    area  atmDistance  balconies  bathrooms  \\\n",
              "1434    0         0  435600          0.0          0          0   \n",
              "5259    0         0  435600          0.0          0          0   \n",
              "\n",
              "      hospitalDistance      price  restrauntDistance  schoolDistance  \\\n",
              "1434               0.0  100000000                0.0             0.0   \n",
              "5259               0.0   43560000                0.0             0.0   \n",
              "\n",
              "      shoppingDistance  status  \n",
              "1434               0.0       1  \n",
              "5259               0.0       1  "
            ]
          },
          "execution_count": 12,
          "metadata": {},
          "output_type": "execute_result"
        }
      ],
      "source": [
        "df.loc[df['area'] > 400000]"
      ]
    },
    {
      "cell_type": "markdown",
      "id": "0d3970e9",
      "metadata": {
        "id": "0d3970e9"
      },
      "source": [
        "These houses are unfurnished houses.\n",
        "These houses dont have any atmDistance, hospitalDistance, restaurantDistance, schoolDistance and shoppingDistance that able to indicate the high price of these houses.\n",
        "These houses dont have any balconies and bathrooms but have pretty big area that able to indicate that these house is an empty house but have many rooms to be filled."
      ]
    },
    {
      "cell_type": "markdown",
      "id": "121d0403",
      "metadata": {
        "id": "121d0403"
      },
      "source": [
        "Highest atmdistance"
      ]
    },
    {
      "cell_type": "code",
      "execution_count": null,
      "id": "2f229a1c",
      "metadata": {
        "id": "2f229a1c",
        "outputId": "9d46bdcd-6843-4842-fccd-12ce8c20b09b"
      },
      "outputs": [
        {
          "data": {
            "text/html": [
              "<div>\n",
              "<style scoped>\n",
              "    .dataframe tbody tr th:only-of-type {\n",
              "        vertical-align: middle;\n",
              "    }\n",
              "\n",
              "    .dataframe tbody tr th {\n",
              "        vertical-align: top;\n",
              "    }\n",
              "\n",
              "    .dataframe thead th {\n",
              "        text-align: right;\n",
              "    }\n",
              "</style>\n",
              "<table border=\"1\" class=\"dataframe\">\n",
              "  <thead>\n",
              "    <tr style=\"text-align: right;\">\n",
              "      <th></th>\n",
              "      <th>age</th>\n",
              "      <th>amneties</th>\n",
              "      <th>area</th>\n",
              "      <th>atmDistance</th>\n",
              "      <th>balconies</th>\n",
              "      <th>bathrooms</th>\n",
              "      <th>hospitalDistance</th>\n",
              "      <th>price</th>\n",
              "      <th>restrauntDistance</th>\n",
              "      <th>schoolDistance</th>\n",
              "      <th>shoppingDistance</th>\n",
              "      <th>status</th>\n",
              "    </tr>\n",
              "  </thead>\n",
              "  <tbody>\n",
              "    <tr>\n",
              "      <th>2026</th>\n",
              "      <td>0</td>\n",
              "      <td>2</td>\n",
              "      <td>906</td>\n",
              "      <td>2.695185</td>\n",
              "      <td>0</td>\n",
              "      <td>2</td>\n",
              "      <td>0.383764</td>\n",
              "      <td>3300000</td>\n",
              "      <td>3.091443</td>\n",
              "      <td>0.31243</td>\n",
              "      <td>0.598019</td>\n",
              "      <td>3</td>\n",
              "    </tr>\n",
              "  </tbody>\n",
              "</table>\n",
              "</div>"
            ],
            "text/plain": [
              "      age  amneties  area  atmDistance  balconies  bathrooms  \\\n",
              "2026    0         2   906     2.695185          0          2   \n",
              "\n",
              "      hospitalDistance    price  restrauntDistance  schoolDistance  \\\n",
              "2026          0.383764  3300000           3.091443         0.31243   \n",
              "\n",
              "      shoppingDistance  status  \n",
              "2026          0.598019       3  "
            ]
          },
          "execution_count": 13,
          "metadata": {},
          "output_type": "execute_result"
        }
      ],
      "source": [
        "df.loc[df['atmDistance'] == df['atmDistance'].max()]"
      ]
    },
    {
      "cell_type": "markdown",
      "id": "4d2c0a77",
      "metadata": {
        "id": "4d2c0a77"
      },
      "source": [
        "This is a small ready to move house.\n",
        "This house has low amneties value that may affect house price.\n",
        "This house restaurantDistance is also hight that may affect house price.\n",
        "This house price is helped by the hospitalDistance, schoolDistance, and restaurantDistance are relatively because they are low and still inside the common range."
      ]
    },
    {
      "cell_type": "markdown",
      "id": "70e4ca01",
      "metadata": {
        "id": "70e4ca01"
      },
      "source": [
        "Highest hospital distance"
      ]
    },
    {
      "cell_type": "code",
      "execution_count": null,
      "id": "0bd96600",
      "metadata": {
        "id": "0bd96600",
        "outputId": "0c59022a-984b-416e-a786-0d830352ac9a"
      },
      "outputs": [
        {
          "data": {
            "text/html": [
              "<div>\n",
              "<style scoped>\n",
              "    .dataframe tbody tr th:only-of-type {\n",
              "        vertical-align: middle;\n",
              "    }\n",
              "\n",
              "    .dataframe tbody tr th {\n",
              "        vertical-align: top;\n",
              "    }\n",
              "\n",
              "    .dataframe thead th {\n",
              "        text-align: right;\n",
              "    }\n",
              "</style>\n",
              "<table border=\"1\" class=\"dataframe\">\n",
              "  <thead>\n",
              "    <tr style=\"text-align: right;\">\n",
              "      <th></th>\n",
              "      <th>age</th>\n",
              "      <th>amneties</th>\n",
              "      <th>area</th>\n",
              "      <th>atmDistance</th>\n",
              "      <th>balconies</th>\n",
              "      <th>bathrooms</th>\n",
              "      <th>hospitalDistance</th>\n",
              "      <th>price</th>\n",
              "      <th>restrauntDistance</th>\n",
              "      <th>schoolDistance</th>\n",
              "      <th>shoppingDistance</th>\n",
              "      <th>status</th>\n",
              "    </tr>\n",
              "  </thead>\n",
              "  <tbody>\n",
              "    <tr>\n",
              "      <th>910</th>\n",
              "      <td>0</td>\n",
              "      <td>0</td>\n",
              "      <td>6534</td>\n",
              "      <td>1.190493</td>\n",
              "      <td>0</td>\n",
              "      <td>0</td>\n",
              "      <td>1.186371</td>\n",
              "      <td>60000000</td>\n",
              "      <td>1.090419</td>\n",
              "      <td>1.099844</td>\n",
              "      <td>1.124144</td>\n",
              "      <td>1</td>\n",
              "    </tr>\n",
              "    <tr>\n",
              "      <th>1416</th>\n",
              "      <td>0</td>\n",
              "      <td>0</td>\n",
              "      <td>1400</td>\n",
              "      <td>1.190493</td>\n",
              "      <td>1</td>\n",
              "      <td>4</td>\n",
              "      <td>1.186371</td>\n",
              "      <td>2500000</td>\n",
              "      <td>1.090419</td>\n",
              "      <td>1.099844</td>\n",
              "      <td>1.124144</td>\n",
              "      <td>2</td>\n",
              "    </tr>\n",
              "    <tr>\n",
              "      <th>3580</th>\n",
              "      <td>0</td>\n",
              "      <td>0</td>\n",
              "      <td>2178</td>\n",
              "      <td>1.190493</td>\n",
              "      <td>0</td>\n",
              "      <td>0</td>\n",
              "      <td>1.186371</td>\n",
              "      <td>2750000</td>\n",
              "      <td>1.090419</td>\n",
              "      <td>1.099844</td>\n",
              "      <td>1.124144</td>\n",
              "      <td>1</td>\n",
              "    </tr>\n",
              "  </tbody>\n",
              "</table>\n",
              "</div>"
            ],
            "text/plain": [
              "      age  amneties  area  atmDistance  balconies  bathrooms  \\\n",
              "910     0         0  6534     1.190493          0          0   \n",
              "1416    0         0  1400     1.190493          1          4   \n",
              "3580    0         0  2178     1.190493          0          0   \n",
              "\n",
              "      hospitalDistance     price  restrauntDistance  schoolDistance  \\\n",
              "910           1.186371  60000000           1.090419        1.099844   \n",
              "1416          1.186371   2500000           1.090419        1.099844   \n",
              "3580          1.186371   2750000           1.090419        1.099844   \n",
              "\n",
              "      shoppingDistance  status  \n",
              "910           1.124144       1  \n",
              "1416          1.124144       2  \n",
              "3580          1.124144       1  "
            ]
          },
          "execution_count": 14,
          "metadata": {},
          "output_type": "execute_result"
        }
      ],
      "source": [
        "df.loc[df['hospitalDistance'] == df['hospitalDistance'].max()]"
      ]
    },
    {
      "cell_type": "markdown",
      "id": "c505a205",
      "metadata": {
        "id": "c505a205"
      },
      "source": [
        "These houses have same hospitalDistance, restaurantDistance, SchoolDistance and shoppingDistance but have different house price.\n",
        "These houses are new house with no amneties.\n",
        "These house have different price because of house status and and house area.\n",
        "The house that have its status is under construction, may have lower price.\n",
        "Highest restrauntDistance"
      ]
    },
    {
      "cell_type": "markdown",
      "id": "5339051a",
      "metadata": {
        "id": "5339051a"
      },
      "source": [
        "\n",
        "Highest restrauntDistance"
      ]
    },
    {
      "cell_type": "code",
      "execution_count": null,
      "id": "1e4458f9",
      "metadata": {
        "id": "1e4458f9",
        "outputId": "29e8f637-35b8-45a0-d58b-46260cda3526"
      },
      "outputs": [
        {
          "data": {
            "text/html": [
              "<div>\n",
              "<style scoped>\n",
              "    .dataframe tbody tr th:only-of-type {\n",
              "        vertical-align: middle;\n",
              "    }\n",
              "\n",
              "    .dataframe tbody tr th {\n",
              "        vertical-align: top;\n",
              "    }\n",
              "\n",
              "    .dataframe thead th {\n",
              "        text-align: right;\n",
              "    }\n",
              "</style>\n",
              "<table border=\"1\" class=\"dataframe\">\n",
              "  <thead>\n",
              "    <tr style=\"text-align: right;\">\n",
              "      <th></th>\n",
              "      <th>age</th>\n",
              "      <th>amneties</th>\n",
              "      <th>area</th>\n",
              "      <th>atmDistance</th>\n",
              "      <th>balconies</th>\n",
              "      <th>bathrooms</th>\n",
              "      <th>hospitalDistance</th>\n",
              "      <th>price</th>\n",
              "      <th>restrauntDistance</th>\n",
              "      <th>schoolDistance</th>\n",
              "      <th>shoppingDistance</th>\n",
              "      <th>status</th>\n",
              "    </tr>\n",
              "  </thead>\n",
              "  <tbody>\n",
              "    <tr>\n",
              "      <th>50</th>\n",
              "      <td>0</td>\n",
              "      <td>4</td>\n",
              "      <td>1005</td>\n",
              "      <td>2.691821</td>\n",
              "      <td>0</td>\n",
              "      <td>2</td>\n",
              "      <td>0.383752</td>\n",
              "      <td>3800000</td>\n",
              "      <td>3.091908</td>\n",
              "      <td>0.31244</td>\n",
              "      <td>0.598212</td>\n",
              "      <td>3</td>\n",
              "    </tr>\n",
              "  </tbody>\n",
              "</table>\n",
              "</div>"
            ],
            "text/plain": [
              "    age  amneties  area  atmDistance  balconies  bathrooms  hospitalDistance  \\\n",
              "50    0         4  1005     2.691821          0          2          0.383752   \n",
              "\n",
              "      price  restrauntDistance  schoolDistance  shoppingDistance  status  \n",
              "50  3800000           3.091908         0.31244          0.598212       3  "
            ]
          },
          "execution_count": 15,
          "metadata": {},
          "output_type": "execute_result"
        }
      ],
      "source": [
        "df.loc[df['restrauntDistance'] == df['restrauntDistance'].max()]"
      ]
    },
    {
      "cell_type": "markdown",
      "id": "e8e20885",
      "metadata": {
        "id": "e8e20885"
      },
      "source": [
        "This is a new ready to move house.\n",
        "This house area is realtive small.\n",
        "This house restrauntDistance affect this house atmDistance and that make the price low.\n",
        "This house price is helped by hospitalDistance, restaurantDistance, schoolDistance and shoppingDistance of this house.\n"
      ]
    },
    {
      "cell_type": "markdown",
      "id": "9ff61470",
      "metadata": {
        "id": "9ff61470"
      },
      "source": [
        "Highest schoolDistance"
      ]
    },
    {
      "cell_type": "code",
      "execution_count": null,
      "id": "dbf8a770",
      "metadata": {
        "id": "dbf8a770",
        "outputId": "75941bce-e186-444b-bc88-cdfd777c4430"
      },
      "outputs": [
        {
          "data": {
            "text/html": [
              "<div>\n",
              "<style scoped>\n",
              "    .dataframe tbody tr th:only-of-type {\n",
              "        vertical-align: middle;\n",
              "    }\n",
              "\n",
              "    .dataframe tbody tr th {\n",
              "        vertical-align: top;\n",
              "    }\n",
              "\n",
              "    .dataframe thead th {\n",
              "        text-align: right;\n",
              "    }\n",
              "</style>\n",
              "<table border=\"1\" class=\"dataframe\">\n",
              "  <thead>\n",
              "    <tr style=\"text-align: right;\">\n",
              "      <th></th>\n",
              "      <th>age</th>\n",
              "      <th>amneties</th>\n",
              "      <th>area</th>\n",
              "      <th>atmDistance</th>\n",
              "      <th>balconies</th>\n",
              "      <th>bathrooms</th>\n",
              "      <th>hospitalDistance</th>\n",
              "      <th>price</th>\n",
              "      <th>restrauntDistance</th>\n",
              "      <th>schoolDistance</th>\n",
              "      <th>shoppingDistance</th>\n",
              "      <th>status</th>\n",
              "    </tr>\n",
              "  </thead>\n",
              "  <tbody>\n",
              "    <tr>\n",
              "      <th>141</th>\n",
              "      <td>0</td>\n",
              "      <td>0</td>\n",
              "      <td>5880</td>\n",
              "      <td>1.088194</td>\n",
              "      <td>0</td>\n",
              "      <td>0</td>\n",
              "      <td>0.909766</td>\n",
              "      <td>25000000</td>\n",
              "      <td>0.985673</td>\n",
              "      <td>1.109662</td>\n",
              "      <td>1.033816</td>\n",
              "      <td>1</td>\n",
              "    </tr>\n",
              "    <tr>\n",
              "      <th>5079</th>\n",
              "      <td>0</td>\n",
              "      <td>0</td>\n",
              "      <td>5880</td>\n",
              "      <td>1.088194</td>\n",
              "      <td>0</td>\n",
              "      <td>0</td>\n",
              "      <td>0.909766</td>\n",
              "      <td>25000000</td>\n",
              "      <td>0.985673</td>\n",
              "      <td>1.109662</td>\n",
              "      <td>1.033816</td>\n",
              "      <td>1</td>\n",
              "    </tr>\n",
              "    <tr>\n",
              "      <th>5125</th>\n",
              "      <td>0</td>\n",
              "      <td>0</td>\n",
              "      <td>5880</td>\n",
              "      <td>1.088194</td>\n",
              "      <td>0</td>\n",
              "      <td>0</td>\n",
              "      <td>0.909766</td>\n",
              "      <td>25000000</td>\n",
              "      <td>0.985673</td>\n",
              "      <td>1.109662</td>\n",
              "      <td>1.033816</td>\n",
              "      <td>1</td>\n",
              "    </tr>\n",
              "    <tr>\n",
              "      <th>202</th>\n",
              "      <td>2</td>\n",
              "      <td>0</td>\n",
              "      <td>3000</td>\n",
              "      <td>1.088194</td>\n",
              "      <td>0</td>\n",
              "      <td>3</td>\n",
              "      <td>0.909766</td>\n",
              "      <td>23500000</td>\n",
              "      <td>0.985673</td>\n",
              "      <td>1.109662</td>\n",
              "      <td>1.033816</td>\n",
              "      <td>3</td>\n",
              "    </tr>\n",
              "    <tr>\n",
              "      <th>489</th>\n",
              "      <td>6</td>\n",
              "      <td>0</td>\n",
              "      <td>3000</td>\n",
              "      <td>1.088194</td>\n",
              "      <td>2</td>\n",
              "      <td>4</td>\n",
              "      <td>0.909766</td>\n",
              "      <td>19500000</td>\n",
              "      <td>0.985673</td>\n",
              "      <td>1.109662</td>\n",
              "      <td>1.033816</td>\n",
              "      <td>3</td>\n",
              "    </tr>\n",
              "    <tr>\n",
              "      <th>3374</th>\n",
              "      <td>0</td>\n",
              "      <td>0</td>\n",
              "      <td>3484</td>\n",
              "      <td>1.088194</td>\n",
              "      <td>0</td>\n",
              "      <td>0</td>\n",
              "      <td>0.909766</td>\n",
              "      <td>12400000</td>\n",
              "      <td>0.985673</td>\n",
              "      <td>1.109662</td>\n",
              "      <td>1.033816</td>\n",
              "      <td>1</td>\n",
              "    </tr>\n",
              "    <tr>\n",
              "      <th>103</th>\n",
              "      <td>6</td>\n",
              "      <td>0</td>\n",
              "      <td>2100</td>\n",
              "      <td>1.088194</td>\n",
              "      <td>0</td>\n",
              "      <td>4</td>\n",
              "      <td>0.909766</td>\n",
              "      <td>12000000</td>\n",
              "      <td>0.985673</td>\n",
              "      <td>1.109662</td>\n",
              "      <td>1.033816</td>\n",
              "      <td>3</td>\n",
              "    </tr>\n",
              "    <tr>\n",
              "      <th>3095</th>\n",
              "      <td>0</td>\n",
              "      <td>0</td>\n",
              "      <td>2100</td>\n",
              "      <td>1.088194</td>\n",
              "      <td>0</td>\n",
              "      <td>0</td>\n",
              "      <td>0.909766</td>\n",
              "      <td>12000000</td>\n",
              "      <td>0.985673</td>\n",
              "      <td>1.109662</td>\n",
              "      <td>1.033816</td>\n",
              "      <td>1</td>\n",
              "    </tr>\n",
              "    <tr>\n",
              "      <th>324</th>\n",
              "      <td>0</td>\n",
              "      <td>0</td>\n",
              "      <td>3267</td>\n",
              "      <td>1.088194</td>\n",
              "      <td>0</td>\n",
              "      <td>0</td>\n",
              "      <td>0.909766</td>\n",
              "      <td>7125000</td>\n",
              "      <td>0.985673</td>\n",
              "      <td>1.109662</td>\n",
              "      <td>1.033816</td>\n",
              "      <td>1</td>\n",
              "    </tr>\n",
              "    <tr>\n",
              "      <th>499</th>\n",
              "      <td>0</td>\n",
              "      <td>0</td>\n",
              "      <td>1500</td>\n",
              "      <td>1.088194</td>\n",
              "      <td>1</td>\n",
              "      <td>3</td>\n",
              "      <td>0.909766</td>\n",
              "      <td>5000000</td>\n",
              "      <td>0.985673</td>\n",
              "      <td>1.109662</td>\n",
              "      <td>1.033816</td>\n",
              "      <td>2</td>\n",
              "    </tr>\n",
              "    <tr>\n",
              "      <th>1754</th>\n",
              "      <td>0</td>\n",
              "      <td>0</td>\n",
              "      <td>1500</td>\n",
              "      <td>1.088194</td>\n",
              "      <td>1</td>\n",
              "      <td>3</td>\n",
              "      <td>0.909766</td>\n",
              "      <td>5000000</td>\n",
              "      <td>0.985673</td>\n",
              "      <td>1.109662</td>\n",
              "      <td>1.033816</td>\n",
              "      <td>2</td>\n",
              "    </tr>\n",
              "    <tr>\n",
              "      <th>4857</th>\n",
              "      <td>0</td>\n",
              "      <td>0</td>\n",
              "      <td>1500</td>\n",
              "      <td>1.088194</td>\n",
              "      <td>1</td>\n",
              "      <td>3</td>\n",
              "      <td>0.909766</td>\n",
              "      <td>5000000</td>\n",
              "      <td>0.985673</td>\n",
              "      <td>1.109662</td>\n",
              "      <td>1.033816</td>\n",
              "      <td>2</td>\n",
              "    </tr>\n",
              "    <tr>\n",
              "      <th>4908</th>\n",
              "      <td>0</td>\n",
              "      <td>0</td>\n",
              "      <td>1500</td>\n",
              "      <td>1.088194</td>\n",
              "      <td>1</td>\n",
              "      <td>3</td>\n",
              "      <td>0.909766</td>\n",
              "      <td>4500000</td>\n",
              "      <td>0.985673</td>\n",
              "      <td>1.109662</td>\n",
              "      <td>1.033816</td>\n",
              "      <td>2</td>\n",
              "    </tr>\n",
              "  </tbody>\n",
              "</table>\n",
              "</div>"
            ],
            "text/plain": [
              "      age  amneties  area  atmDistance  balconies  bathrooms  \\\n",
              "141     0         0  5880     1.088194          0          0   \n",
              "5079    0         0  5880     1.088194          0          0   \n",
              "5125    0         0  5880     1.088194          0          0   \n",
              "202     2         0  3000     1.088194          0          3   \n",
              "489     6         0  3000     1.088194          2          4   \n",
              "3374    0         0  3484     1.088194          0          0   \n",
              "103     6         0  2100     1.088194          0          4   \n",
              "3095    0         0  2100     1.088194          0          0   \n",
              "324     0         0  3267     1.088194          0          0   \n",
              "499     0         0  1500     1.088194          1          3   \n",
              "1754    0         0  1500     1.088194          1          3   \n",
              "4857    0         0  1500     1.088194          1          3   \n",
              "4908    0         0  1500     1.088194          1          3   \n",
              "\n",
              "      hospitalDistance     price  restrauntDistance  schoolDistance  \\\n",
              "141           0.909766  25000000           0.985673        1.109662   \n",
              "5079          0.909766  25000000           0.985673        1.109662   \n",
              "5125          0.909766  25000000           0.985673        1.109662   \n",
              "202           0.909766  23500000           0.985673        1.109662   \n",
              "489           0.909766  19500000           0.985673        1.109662   \n",
              "3374          0.909766  12400000           0.985673        1.109662   \n",
              "103           0.909766  12000000           0.985673        1.109662   \n",
              "3095          0.909766  12000000           0.985673        1.109662   \n",
              "324           0.909766   7125000           0.985673        1.109662   \n",
              "499           0.909766   5000000           0.985673        1.109662   \n",
              "1754          0.909766   5000000           0.985673        1.109662   \n",
              "4857          0.909766   5000000           0.985673        1.109662   \n",
              "4908          0.909766   4500000           0.985673        1.109662   \n",
              "\n",
              "      shoppingDistance  status  \n",
              "141           1.033816       1  \n",
              "5079          1.033816       1  \n",
              "5125          1.033816       1  \n",
              "202           1.033816       3  \n",
              "489           1.033816       3  \n",
              "3374          1.033816       1  \n",
              "103           1.033816       3  \n",
              "3095          1.033816       1  \n",
              "324           1.033816       1  \n",
              "499           1.033816       2  \n",
              "1754          1.033816       2  \n",
              "4857          1.033816       2  \n",
              "4908          1.033816       2  "
            ]
          },
          "execution_count": 17,
          "metadata": {},
          "output_type": "execute_result"
        }
      ],
      "source": [
        "df.loc[df['schoolDistance'] == df['schoolDistance'].max()].sort_values('price',ascending = False)"
      ]
    },
    {
      "cell_type": "markdown",
      "id": "3530aa48",
      "metadata": {
        "id": "3530aa48"
      },
      "source": [
        "These houses have same atmDistance, hospitalDistance, restaurantDistance, and shoppingDistance.\n",
        "Based on these table, house price is affected by house area and house status."
      ]
    },
    {
      "cell_type": "markdown",
      "id": "585c3ad7",
      "metadata": {
        "id": "585c3ad7"
      },
      "source": [
        "Highest shopping distance"
      ]
    },
    {
      "cell_type": "code",
      "execution_count": null,
      "id": "ba9cd114",
      "metadata": {
        "id": "ba9cd114",
        "outputId": "d889b787-e653-4fc6-8a9b-f95413a19cad"
      },
      "outputs": [
        {
          "data": {
            "text/html": [
              "<div>\n",
              "<style scoped>\n",
              "    .dataframe tbody tr th:only-of-type {\n",
              "        vertical-align: middle;\n",
              "    }\n",
              "\n",
              "    .dataframe tbody tr th {\n",
              "        vertical-align: top;\n",
              "    }\n",
              "\n",
              "    .dataframe thead th {\n",
              "        text-align: right;\n",
              "    }\n",
              "</style>\n",
              "<table border=\"1\" class=\"dataframe\">\n",
              "  <thead>\n",
              "    <tr style=\"text-align: right;\">\n",
              "      <th></th>\n",
              "      <th>age</th>\n",
              "      <th>amneties</th>\n",
              "      <th>area</th>\n",
              "      <th>atmDistance</th>\n",
              "      <th>balconies</th>\n",
              "      <th>bathrooms</th>\n",
              "      <th>hospitalDistance</th>\n",
              "      <th>price</th>\n",
              "      <th>restrauntDistance</th>\n",
              "      <th>schoolDistance</th>\n",
              "      <th>shoppingDistance</th>\n",
              "      <th>status</th>\n",
              "    </tr>\n",
              "  </thead>\n",
              "  <tbody>\n",
              "    <tr>\n",
              "      <th>3605</th>\n",
              "      <td>0</td>\n",
              "      <td>0</td>\n",
              "      <td>2823</td>\n",
              "      <td>0.496357</td>\n",
              "      <td>1</td>\n",
              "      <td>3</td>\n",
              "      <td>1.089825</td>\n",
              "      <td>12500000</td>\n",
              "      <td>0.279354</td>\n",
              "      <td>0.201177</td>\n",
              "      <td>1.149803</td>\n",
              "      <td>3</td>\n",
              "    </tr>\n",
              "  </tbody>\n",
              "</table>\n",
              "</div>"
            ],
            "text/plain": [
              "      age  amneties  area  atmDistance  balconies  bathrooms  \\\n",
              "3605    0         0  2823     0.496357          1          3   \n",
              "\n",
              "      hospitalDistance     price  restrauntDistance  schoolDistance  \\\n",
              "3605          1.089825  12500000           0.279354        0.201177   \n",
              "\n",
              "      shoppingDistance  status  \n",
              "3605          1.149803       3  "
            ]
          },
          "execution_count": 20,
          "metadata": {},
          "output_type": "execute_result"
        }
      ],
      "source": [
        "df.loc[df['shoppingDistance'] == df['shoppingDistance'].max()]"
      ]
    },
    {
      "cell_type": "markdown",
      "id": "1a759c6f",
      "metadata": {
        "id": "1a759c6f"
      },
      "source": [
        "This is a new ready to move house.\n",
        "This house are is relatively big but still inside the common range.\n",
        "This house hase high hospitalDistance because this house has high shoppingDistance."
      ]
    },
    {
      "cell_type": "code",
      "execution_count": null,
      "id": "28492804",
      "metadata": {
        "id": "28492804"
      },
      "outputs": [],
      "source": []
    }
  ],
  "metadata": {
    "kernelspec": {
      "display_name": "Python 3 (ipykernel)",
      "language": "python",
      "name": "python3"
    },
    "language_info": {
      "codemirror_mode": {
        "name": "ipython",
        "version": 3
      },
      "file_extension": ".py",
      "mimetype": "text/x-python",
      "name": "python",
      "nbconvert_exporter": "python",
      "pygments_lexer": "ipython3",
      "version": "3.9.12"
    },
    "colab": {
      "provenance": [],
      "include_colab_link": true
    }
  },
  "nbformat": 4,
  "nbformat_minor": 5
}